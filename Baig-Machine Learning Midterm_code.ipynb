{
 "cells": [
  {
   "cell_type": "code",
   "execution_count": null,
   "metadata": {},
   "outputs": [],
   "source": [
    "#retrieving data from MongoDB\n",
    "\n",
    "import json\n",
    "\n",
    "with open('/Users/wasilhassan/Desktop/sort/credentials.json') as f:\n",
    "    data = json.load(f)\n",
    "\n",
    "secret_key = data['mongodb']\n",
    "\n",
    "print(f\"My secret key is {len(secret_key)} characters in lenght.\")"
   ]
  },
  {
   "cell_type": "code",
   "execution_count": null,
   "metadata": {},
   "outputs": [],
   "source": [
    "import pymongo\n",
    "import certifi\n",
    "import pandas as pd\n",
    "import re\n",
    "\n",
    "mongo_connection_string = data['mongodb']\n",
    "\n",
    "client = pymongo.MongoClient(mongo_connection_string, tlsCAFile=certifi.where())\n",
    "\n",
    "# Fetch the database named \"DA320\"\n",
    "db = client.my_database\n",
    "\n",
    "# Within the database we have \"collections\". Think of them as tables in SQL.\n",
    "allCollections = db.list_collection_names()\n",
    "\n",
    "# Here is the list of collections within my database\n",
    "print(f\"Using MongoDB version {client.server_info()['version']}.\")\n",
    "print(f\"This database has the collections {allCollections}\")"
   ]
  },
  {
   "cell_type": "code",
   "execution_count": null,
   "metadata": {},
   "outputs": [],
   "source": [
    "#Find data through pipeline view in 2010\n",
    "db = client['my_database']\n",
    "view = db['try_1']\n",
    "data = list(view.find({}))\n",
    "\n",
    "\n",
    "#convert data into data frame\n",
    "\n",
    "df = pd.DataFrame(data)\n",
    "df['release_date'] = pd.to_datetime(df['release_date'])\n",
    "df = df[df['release_date'].dt.year == 2010]\n",
    "\n",
    "#Find data in Metacritic in the same year\n",
    "metacritic_view = pd.DataFrame(db.metacritic.find({ \"release_date\": re.compile(\"2010\")}))\n",
    "\n",
    "#convert value to number\n",
    "metacritic_view.score = pd.to_numeric(metacritic_view.score, errors = 'coerce')\n",
    "metacritic_view.release_date = pd.to_datetime(metacritic_view.release_date, errors = 'coerce')\n",
    "\n",
    "print(df)\n",
    "\n"
   ]
  },
  {
   "cell_type": "code",
   "execution_count": null,
   "metadata": {},
   "outputs": [],
   "source": [
    "#Merge the two datasets together using an inner join\n",
    "\n",
    "unified_view = pd.merge(df, metacritic_view, how=\"inner\", on=\"title\")\n",
    "unified_view.head()"
   ]
  },
  {
   "cell_type": "code",
   "execution_count": null,
   "metadata": {},
   "outputs": [],
   "source": [
    "import transformers\n",
    "classifier = transformers.pipeline(\"fill-mask\", model=\"distilbert-base-uncased\")"
   ]
  },
  {
   "cell_type": "code",
   "execution_count": null,
   "metadata": {},
   "outputs": [],
   "source": [
    "prompt = \"movies is [MASK]\"\n",
    "result = classifier(prompt)\n",
    "\n",
    "for prediction in result:\n",
    "    print(prediction['sequence'])\n",
    "    print(prediction['token_str'])\n",
    "    print(prediction['score'])"
   ]
  },
  {
   "cell_type": "code",
   "execution_count": null,
   "metadata": {},
   "outputs": [],
   "source": [
    "predictions = []\n",
    "for _, row in unified_view.iterrows():\n",
    "    plot_summary = row[\"description\"]\n",
    "\n",
    "    # Create the prompt to classify the movie as \"happy\" or \"sad\"\n",
    "    prompt = f\"This movie is about {plot_summary}. The movie has a [MASK] ending.\"\n",
    "\n",
    "    # Use the classifier to predict the sentiment of the movie\n",
    "    result = classifier(prompt)\n",
    "\n",
    "    # Get the top predicted sentiment and its score\n",
    "    predicted_sentiment = result[0][\"token_str\"]\n",
    "    sentiment_score = result[0][\"score\"]\n",
    "\n",
    "    # Add the prediction to the list\n",
    "    predictions.append(predicted_sentiment)\n",
    "\n",
    "# Add the predictions to the dataset as a new column\n",
    "unified_view[\"Sentiment\"] = predictions\n",
    "\n",
    "# Print the updated dataset\n",
    "print(unified_view)"
   ]
  },
  {
   "cell_type": "code",
   "execution_count": null,
   "metadata": {},
   "outputs": [],
   "source": [
    "import plotly.express as px\n",
    "\n",
    "unified_view['score'] = unified_view['score'] / 10\n",
    "\n",
    "# Reshape the data\n",
    "df_melt = pd.melt(unified_view, id_vars='Sentiment', value_vars=['user_rating', 'score'], \n",
    "                  var_name='rating_type', value_name='rating_value')\n",
    "\n",
    "# Create boxplot\n",
    "fig = px.box(df_melt, x=\"Sentiment\", y=\"rating_value\", color=\"rating_type\")\n",
    "fig.show()"
   ]
  },
  {
   "cell_type": "code",
   "execution_count": null,
   "metadata": {},
   "outputs": [],
   "source": [
    "#This graph tells the user rating and score of movies with different type of endings. I can deduct from here that movies with happy endings has a median score of 5.2 and a median user rating of 6.3. \n"
   ]
  },
  {
   "cell_type": "code",
   "execution_count": null,
   "metadata": {},
   "outputs": [],
   "source": [
    "import pandas as pd\n",
    "import plotly.express as px\n",
    "\n",
    "# Convert 'release_date_y' to datetime if it's not already\n",
    "unified_view['release_date_y'] = pd.to_datetime(unified_view['release_date_y'])\n",
    "\n",
    "# Extract the month and create a new 'Month' column\n",
    "unified_view['Month'] = unified_view['release_date_y'].dt.month\n",
    "\n",
    "# Group the data by 'Month' and 'Sentiment' and count the number of sentiments for each month\n",
    "df_grouped = unified_view.groupby(['Month', 'Sentiment']).size().reset_index(name='Count')\n",
    "\n",
    "# Create a bar plot\n",
    "fig = px.bar(df_grouped, x='Month', y='Count', color='Sentiment', barmode='group')\n",
    "fig.show()\n"
   ]
  },
  {
   "cell_type": "code",
   "execution_count": null,
   "metadata": {},
   "outputs": [],
   "source": [
    "#From this graph I can tell that december was the month when most movies with tragic ending were released, with a total of 18 movies. And June was the month when most movies with happy ending were released, with a total of 9 movies. "
   ]
  },
  {
   "cell_type": "code",
   "execution_count": null,
   "metadata": {},
   "outputs": [],
   "source": [
    "import plotly.express as px\n",
    "\n",
    "# Create boxplot\n",
    "fig = px.box(unified_view, x=\"Sentiment\", y=\"runtime\")\n",
    "fig.show()"
   ]
  },
  {
   "cell_type": "code",
   "execution_count": null,
   "metadata": {},
   "outputs": [],
   "source": [
    "#This graph tells us about the runtime of movies with different types of endings. "
   ]
  }
 ],
 "metadata": {
  "kernelspec": {
   "display_name": "Python 3",
   "language": "python",
   "name": "python3"
  },
  "language_info": {
   "codemirror_mode": {
    "name": "ipython",
    "version": 3
   },
   "file_extension": ".py",
   "mimetype": "text/x-python",
   "name": "python",
   "nbconvert_exporter": "python",
   "pygments_lexer": "ipython3",
   "version": "3.9.16"
  },
  "orig_nbformat": 4
 },
 "nbformat": 4,
 "nbformat_minor": 2
}
