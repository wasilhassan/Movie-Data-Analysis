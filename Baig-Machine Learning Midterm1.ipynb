{
 "cells": [
  {
   "cell_type": "code",
   "execution_count": 2,
   "metadata": {},
   "outputs": [
    {
     "name": "stdout",
     "output_type": "stream",
     "text": [
      "My secret key is 70 characters in lenght.\n"
     ]
    }
   ],
   "source": [
    "import json\n",
    "\n",
    "with open('/Users/wasilhassan/Desktop/sort/credentials.json') as f:\n",
    "    data = json.load(f)\n",
    "\n",
    "secret_key = data['mongodb']\n",
    "\n",
    "print(f\"My secret key is {len(secret_key)} characters in lenght.\")"
   ]
  },
  {
   "cell_type": "code",
   "execution_count": 3,
   "metadata": {},
   "outputs": [
    {
     "name": "stdout",
     "output_type": "stream",
     "text": [
      "Using MongoDB version 6.0.6.\n",
      "This database has the collections ['1', 'imdb', '2', 'metacritic', 'try_1', 'imdb_view']\n"
     ]
    }
   ],
   "source": [
    "import pymongo\n",
    "import certifi\n",
    "import pandas as pd\n",
    "import re\n",
    "\n",
    "mongo_connection_string = data['mongodb']\n",
    "\n",
    "client = pymongo.MongoClient(mongo_connection_string, tlsCAFile=certifi.where())\n",
    "\n",
    "# Fetch the database named \"DA320\"\n",
    "db = client.my_database\n",
    "\n",
    "# Within the database we have \"collections\". Think of them as tables in SQL.\n",
    "allCollections = db.list_collection_names()\n",
    "\n",
    "# Here is the list of collections within my database\n",
    "print(f\"Using MongoDB version {client.server_info()['version']}.\")\n",
    "print(f\"This database has the collections {allCollections}\")"
   ]
  },
  {
   "cell_type": "code",
   "execution_count": 4,
   "metadata": {},
   "outputs": [
    {
     "name": "stdout",
     "output_type": "stream",
     "text": [
      "                            _id       id                      title  runtime  \\\n",
      "15067  6465534b7c96c756573decc0  1245526                        RED    111.0   \n",
      "15068  6465534b7c96c756573decb6  1375670                  Grown Ups    102.0   \n",
      "15069  6465534b7c96c756573deccd  1504320          The King's Speech    118.0   \n",
      "15071  6465534b7c96c756573decbe  1243957                The Tourist    103.0   \n",
      "15073  6465534b7c96c756573decd2  1386588             The Other Guys    107.0   \n",
      "...                         ...      ...                        ...      ...   \n",
      "16436  6465534c7c96c756573df095  1529233  Basilicata Coast to Coast    105.0   \n",
      "16437  6465534c7c96c756573df0a4  1715730    Y'en aura pas de facile     94.0   \n",
      "16438  6465534c7c96c756573df0aa  1519245                    Agnosia    105.0   \n",
      "16439  6465534c7c96c756573df0af  1380201            Run Sister Run!    113.0   \n",
      "16440  6465534c7c96c756573df0b2  1291125           Au revoir Taipei     85.0   \n",
      "\n",
      "       user_rating   votes       budget  opening_weekend  gross_sales  \\\n",
      "15067          7.0  306196   58000000.0       21761408.0  199006387.0   \n",
      "15068          5.9  248747   80000000.0       40506562.0  271430189.0   \n",
      "15069          8.0  672909   15000000.0              NaN  373700000.0   \n",
      "15071          6.0  240865  100000000.0       16472458.0  278346189.0   \n",
      "15073          6.6  264497  100000000.0       35543162.0  170432927.0   \n",
      "...            ...     ...          ...              ...          ...   \n",
      "16436          6.6    2158          NaN              NaN          NaN   \n",
      "16437          7.1    1347          NaN              NaN          NaN   \n",
      "16438          5.4    1459    3700000.0              NaN          NaN   \n",
      "16439          5.4    1314    1552334.0              NaN          NaN   \n",
      "16440          6.5    1412          NaN              NaN          NaN   \n",
      "\n",
      "                                     genres  ...  \\\n",
      "15067  [Action,  Comedy,  Crime,  Thriller]  ...   \n",
      "15068                              [Comedy]  ...   \n",
      "15069         [Biography,  Drama,  History]  ...   \n",
      "15071                   [Action,  Thriller]  ...   \n",
      "15073             [Action,  Comedy,  Crime]  ...   \n",
      "...                                     ...  ...   \n",
      "16436                    [Comedy,  Musical]  ...   \n",
      "16437                              [Comedy]  ...   \n",
      "16438                    [Drama,  Thriller]  ...   \n",
      "16439                               [Drama]  ...   \n",
      "16440    [Comedy,  Crime,  Drama,  Romance]  ...   \n",
      "\n",
      "                                                    cast  \\\n",
      "15067  [Bruce Willis,  Mary-Louise Parker,  Heidi von...   \n",
      "15068  [Adam Sandler,  Kevin James,  Chris Rock,  Dav...   \n",
      "15069  [Colin Firth,  Helena Bonham Carter,  Derek Ja...   \n",
      "15071  [Johnny Depp,  Angelina Jolie,  Paul Bettany, ...   \n",
      "15073  [Will Ferrell,  Derek Jeter,  Mark Wahlberg,  ...   \n",
      "...                                                  ...   \n",
      "16436  [Alessandro Gassmann,  Paolo Briguglia,  Max G...   \n",
      "16437  [Rémy Girard,  Denis Bouchard,  Emmanuel Bilod...   \n",
      "16438  [Eduardo Noriega,  Félix Gómez,  Bárbara Goena...   \n",
      "16439  [Ada Kukkonen,  Sara Melleri,  Anna-Leena Uoti...   \n",
      "16440  [Chun-Yao Yao,  Amber Kuo,  Hsiao-chuan Chang,...   \n",
      "\n",
      "                                             castTrimmed  \\\n",
      "15067  [Bruce Willis, Mary-Louise Parker, Heidi von P...   \n",
      "15068  [Adam Sandler, Kevin James, Chris Rock, David ...   \n",
      "15069  [Colin Firth, Helena Bonham Carter, Derek Jaco...   \n",
      "15071  [Johnny Depp, Angelina Jolie, Paul Bettany, Ti...   \n",
      "15073  [Will Ferrell, Derek Jeter, Mark Wahlberg, Eva...   \n",
      "...                                                  ...   \n",
      "16436  [Alessandro Gassmann, Paolo Briguglia, Max Gaz...   \n",
      "16437  [Rémy Girard, Denis Bouchard, Emmanuel Bilodea...   \n",
      "16438  [Eduardo Noriega, Félix Gómez, Bárbara Goenaga...   \n",
      "16439  [Ada Kukkonen, Sara Melleri, Anna-Leena Uotila...   \n",
      "16440  [Chun-Yao Yao, Amber Kuo, Hsiao-chuan Chang, L...   \n",
      "\n",
      "                                 director                     directorTrimmed  \\\n",
      "15067                  [Robert Schwentke]                  [Robert Schwentke]   \n",
      "15068                      [Dennis Dugan]                      [Dennis Dugan]   \n",
      "15069                        [Tom Hooper]                        [Tom Hooper]   \n",
      "15071  [Florian Henckel von Donnersmarck]  [Florian Henckel von Donnersmarck]   \n",
      "15073                        [Adam McKay]                        [Adam McKay]   \n",
      "...                                   ...                                 ...   \n",
      "16436                     [Rocco Papaleo]                     [Rocco Papaleo]   \n",
      "16437                 [Marc-André Lavoie]                 [Marc-André Lavoie]   \n",
      "16438                      [Eugenio Mira]                      [Eugenio Mira]   \n",
      "16439                      [Marja Pyykkö]                      [Marja Pyykkö]   \n",
      "16440                        [Arvin Chen]                        [Arvin Chen]   \n",
      "\n",
      "                                                producer  \\\n",
      "15067  [Lorenzo di Bonaventura,  Jake Myers,  Gregory...   \n",
      "15068  [Barry Bernardi,  Allen Covert,  Jack Giarrapu...   \n",
      "15069  [Paul Brett,  Iain Canning,  Charles Dorfman, ...   \n",
      "15071  [Gary Barber,  John Bernard,  Roger Birnbaum, ...   \n",
      "15073  [Josh Church,  William M. Connor,  Patrick Cro...   \n",
      "...                                                  ...   \n",
      "16436  [Isabella Cocuzza,  Mark Lombardo,  Massimo Mo...   \n",
      "16437  [Adrien Bodson,  Pierre Brousseau,  Marc-André...   \n",
      "16438  [Álvaro Augustin,  Jesús de la Vega,  Miguel A...   \n",
      "16439     [Jukka Helle,  Piia Nokelainen,  Markus Selin]   \n",
      "16440  [Michelle Cho,  In-Ah Lee,  Michael Leow,  Wei...   \n",
      "\n",
      "                                         producerTrimmed  \\\n",
      "15067  [Lorenzo di Bonaventura, Jake Myers, Gregory N...   \n",
      "15068  [Barry Bernardi, Allen Covert, Jack Giarraputo...   \n",
      "15069  [Paul Brett, Iain Canning, Charles Dorfman, Si...   \n",
      "15071  [Gary Barber, John Bernard, Roger Birnbaum, Ol...   \n",
      "15073  [Josh Church, William M. Connor, Patrick Crowl...   \n",
      "...                                                  ...   \n",
      "16436  [Isabella Cocuzza, Mark Lombardo, Massimo Mona...   \n",
      "16437  [Adrien Bodson, Pierre Brousseau, Marc-André L...   \n",
      "16438  [Álvaro Augustin, Jesús de la Vega, Miguel Ang...   \n",
      "16439       [Jukka Helle, Piia Nokelainen, Markus Selin]   \n",
      "16440  [Michelle Cho, In-Ah Lee, Michael Leow, Wei-Ja...   \n",
      "\n",
      "                                                 company  \\\n",
      "15067  [Summit Entertainment,  Di Bonaventura Picture...   \n",
      "15068  [Columbia Pictures,  Relativity Media,  Happy ...   \n",
      "15069  [The Weinstein Company,  UK Film Council,  Mom...   \n",
      "15071  [GK Films,  Columbia Pictures,  Spyglass Enter...   \n",
      "15073  [Columbia Pictures,  Gary Sanchez Productions,...   \n",
      "...                                                  ...   \n",
      "16436  [Paco Cinematografica,  Eagle Pictures,  Minis...   \n",
      "16437                [Les Films Seville,  Orange Médias]   \n",
      "16438                       [Roxbury,  Telecinco Cinema]   \n",
      "16439                            [Nelonen,  Solar Films]   \n",
      "16440  [Beta Cinema,  Cathay Asia Films,  Atom Cinema...   \n",
      "\n",
      "                                          companyTrimmed release_date  \\\n",
      "15067  [Summit Entertainment, Di Bonaventura Pictures...   2010-09-29   \n",
      "15068  [Columbia Pictures, Relativity Media, Happy Ma...   2010-06-24   \n",
      "15069  [The Weinstein Company, UK Film Council, Momen...   2010-09-06   \n",
      "15071  [GK Films, Columbia Pictures, Spyglass Enterta...   2010-12-06   \n",
      "15073  [Columbia Pictures, Gary Sanchez Productions, ...   2010-08-02   \n",
      "...                                                  ...          ...   \n",
      "16436  [Paco Cinematografica, Eagle Pictures, Ministe...   2010-04-09   \n",
      "16437                 [Les Films Seville, Orange Médias]   2010-08-27   \n",
      "16438                        [Roxbury, Telecinco Cinema]   2010-09-26   \n",
      "16439                             [Nelonen, Solar Films]   2010-08-13   \n",
      "16440  [Beta Cinema, Cathay Asia Films, Atom Cinema, ...   2010-02-14   \n",
      "\n",
      "                                        mpaaRating  \n",
      "15067               [{'trim': {'input': 'PG-13'}}]  \n",
      "15068  [{'trim': {'input': 'TV-PG::(TV rating)'}}]  \n",
      "15069  [{'trim': {'input': 'TV-14::(TV rating)'}}]  \n",
      "15071               [{'trim': {'input': 'PG-13'}}]  \n",
      "15073  [{'trim': {'input': 'TV-MA::(TV rating)'}}]  \n",
      "...                                            ...  \n",
      "16436                                         None  \n",
      "16437                                         None  \n",
      "16438                                         None  \n",
      "16439                                         None  \n",
      "16440                                         None  \n",
      "\n",
      "[1029 rows x 21 columns]\n"
     ]
    }
   ],
   "source": [
    "#Find data through pipeline view in 2010\n",
    "db = client['my_database']\n",
    "view = db['try_1']\n",
    "data = list(view.find({}))\n",
    "\n",
    "\n",
    "#convert data into data frame\n",
    "\n",
    "df = pd.DataFrame(data)\n",
    "df['release_date'] = pd.to_datetime(df['release_date'])\n",
    "df = df[df['release_date'].dt.year == 2010]\n",
    "\n",
    "#Find data in Metacritic in the same year\n",
    "metacritic_view = pd.DataFrame(db.metacritic.find({ \"release_date\": re.compile(\"2010\")}))\n",
    "\n",
    "#convert value to number\n",
    "metacritic_view.score = pd.to_numeric(metacritic_view.score, errors = 'coerce')\n",
    "metacritic_view.release_date = pd.to_datetime(metacritic_view.release_date, errors = 'coerce')\n",
    "\n",
    "print(df)\n",
    "\n"
   ]
  },
  {
   "cell_type": "code",
   "execution_count": 5,
   "metadata": {},
   "outputs": [
    {
     "data": {
      "text/html": [
       "<div>\n",
       "<style scoped>\n",
       "    .dataframe tbody tr th:only-of-type {\n",
       "        vertical-align: middle;\n",
       "    }\n",
       "\n",
       "    .dataframe tbody tr th {\n",
       "        vertical-align: top;\n",
       "    }\n",
       "\n",
       "    .dataframe thead th {\n",
       "        text-align: right;\n",
       "    }\n",
       "</style>\n",
       "<table border=\"1\" class=\"dataframe\">\n",
       "  <thead>\n",
       "    <tr style=\"text-align: right;\">\n",
       "      <th></th>\n",
       "      <th>_id_x</th>\n",
       "      <th>id</th>\n",
       "      <th>title</th>\n",
       "      <th>runtime</th>\n",
       "      <th>user_rating</th>\n",
       "      <th>votes</th>\n",
       "      <th>budget</th>\n",
       "      <th>opening_weekend</th>\n",
       "      <th>gross_sales</th>\n",
       "      <th>genres</th>\n",
       "      <th>...</th>\n",
       "      <th>company</th>\n",
       "      <th>companyTrimmed</th>\n",
       "      <th>release_date_x</th>\n",
       "      <th>mpaaRating</th>\n",
       "      <th>_id_y</th>\n",
       "      <th>movie_id</th>\n",
       "      <th>release_date_y</th>\n",
       "      <th>description</th>\n",
       "      <th>score</th>\n",
       "      <th>thumbnail</th>\n",
       "    </tr>\n",
       "  </thead>\n",
       "  <tbody>\n",
       "    <tr>\n",
       "      <th>0</th>\n",
       "      <td>6465534b7c96c756573decc0</td>\n",
       "      <td>1245526</td>\n",
       "      <td>RED</td>\n",
       "      <td>111.0</td>\n",
       "      <td>7.0</td>\n",
       "      <td>306196</td>\n",
       "      <td>58000000.0</td>\n",
       "      <td>21761408.0</td>\n",
       "      <td>199006387.0</td>\n",
       "      <td>[Action,  Comedy,  Crime,  Thriller]</td>\n",
       "      <td>...</td>\n",
       "      <td>[Summit Entertainment,  Di Bonaventura Picture...</td>\n",
       "      <td>[Summit Entertainment, Di Bonaventura Pictures...</td>\n",
       "      <td>2010-09-29</td>\n",
       "      <td>[{'trim': {'input': 'PG-13'}}]</td>\n",
       "      <td>6476894895ef4140dc3759a9</td>\n",
       "      <td>15844</td>\n",
       "      <td>2010-10-15</td>\n",
       "      <td>Frank, Joe, Marvin and Victoria used to be the...</td>\n",
       "      <td>60</td>\n",
       "      <td>https://static.metacritic.com/images/products/...</td>\n",
       "    </tr>\n",
       "    <tr>\n",
       "      <th>1</th>\n",
       "      <td>6465534b7c96c756573decb6</td>\n",
       "      <td>1375670</td>\n",
       "      <td>Grown Ups</td>\n",
       "      <td>102.0</td>\n",
       "      <td>5.9</td>\n",
       "      <td>248747</td>\n",
       "      <td>80000000.0</td>\n",
       "      <td>40506562.0</td>\n",
       "      <td>271430189.0</td>\n",
       "      <td>[Comedy]</td>\n",
       "      <td>...</td>\n",
       "      <td>[Columbia Pictures,  Relativity Media,  Happy ...</td>\n",
       "      <td>[Columbia Pictures, Relativity Media, Happy Ma...</td>\n",
       "      <td>2010-06-24</td>\n",
       "      <td>[{'trim': {'input': 'TV-PG::(TV rating)'}}]</td>\n",
       "      <td>6476894895ef4140dc375a74</td>\n",
       "      <td>16047</td>\n",
       "      <td>2010-06-25</td>\n",
       "      <td>Grown Ups, starring Adam Sandler, Kevin James,...</td>\n",
       "      <td>30</td>\n",
       "      <td>https://static.metacritic.com/images/products/...</td>\n",
       "    </tr>\n",
       "    <tr>\n",
       "      <th>2</th>\n",
       "      <td>6465534b7c96c756573deccd</td>\n",
       "      <td>1504320</td>\n",
       "      <td>The King's Speech</td>\n",
       "      <td>118.0</td>\n",
       "      <td>8.0</td>\n",
       "      <td>672909</td>\n",
       "      <td>15000000.0</td>\n",
       "      <td>NaN</td>\n",
       "      <td>373700000.0</td>\n",
       "      <td>[Biography,  Drama,  History]</td>\n",
       "      <td>...</td>\n",
       "      <td>[The Weinstein Company,  UK Film Council,  Mom...</td>\n",
       "      <td>[The Weinstein Company, UK Film Council, Momen...</td>\n",
       "      <td>2010-09-06</td>\n",
       "      <td>[{'trim': {'input': 'TV-14::(TV rating)'}}]</td>\n",
       "      <td>6476894895ef4140dc3758e3</td>\n",
       "      <td>15646</td>\n",
       "      <td>2010-11-26</td>\n",
       "      <td>Based on the true story of the Queen of Englan...</td>\n",
       "      <td>88</td>\n",
       "      <td>https://static.metacritic.com/images/products/...</td>\n",
       "    </tr>\n",
       "    <tr>\n",
       "      <th>3</th>\n",
       "      <td>6465534b7c96c756573decbe</td>\n",
       "      <td>1243957</td>\n",
       "      <td>The Tourist</td>\n",
       "      <td>103.0</td>\n",
       "      <td>6.0</td>\n",
       "      <td>240865</td>\n",
       "      <td>100000000.0</td>\n",
       "      <td>16472458.0</td>\n",
       "      <td>278346189.0</td>\n",
       "      <td>[Action,  Thriller]</td>\n",
       "      <td>...</td>\n",
       "      <td>[GK Films,  Columbia Pictures,  Spyglass Enter...</td>\n",
       "      <td>[GK Films, Columbia Pictures, Spyglass Enterta...</td>\n",
       "      <td>2010-12-06</td>\n",
       "      <td>[{'trim': {'input': 'PG-13'}}]</td>\n",
       "      <td>6476894895ef4140dc375a56</td>\n",
       "      <td>16017</td>\n",
       "      <td>2010-12-10</td>\n",
       "      <td>Johnny Depp stars as an American tourist whose...</td>\n",
       "      <td>37</td>\n",
       "      <td>https://static.metacritic.com/images/products/...</td>\n",
       "    </tr>\n",
       "    <tr>\n",
       "      <th>4</th>\n",
       "      <td>6465534b7c96c756573decd2</td>\n",
       "      <td>1386588</td>\n",
       "      <td>The Other Guys</td>\n",
       "      <td>107.0</td>\n",
       "      <td>6.6</td>\n",
       "      <td>264497</td>\n",
       "      <td>100000000.0</td>\n",
       "      <td>35543162.0</td>\n",
       "      <td>170432927.0</td>\n",
       "      <td>[Action,  Comedy,  Crime]</td>\n",
       "      <td>...</td>\n",
       "      <td>[Columbia Pictures,  Gary Sanchez Productions,...</td>\n",
       "      <td>[Columbia Pictures, Gary Sanchez Productions, ...</td>\n",
       "      <td>2010-08-02</td>\n",
       "      <td>[{'trim': {'input': 'TV-MA::(TV rating)'}}]</td>\n",
       "      <td>6476894895ef4140dc375981</td>\n",
       "      <td>15804</td>\n",
       "      <td>2010-08-06</td>\n",
       "      <td>Two mismatched New York City detectives seize ...</td>\n",
       "      <td>64</td>\n",
       "      <td>https://static.metacritic.com/images/products/...</td>\n",
       "    </tr>\n",
       "  </tbody>\n",
       "</table>\n",
       "<p>5 rows × 27 columns</p>\n",
       "</div>"
      ],
      "text/plain": [
       "                      _id_x       id              title  runtime  user_rating  \\\n",
       "0  6465534b7c96c756573decc0  1245526                RED    111.0          7.0   \n",
       "1  6465534b7c96c756573decb6  1375670          Grown Ups    102.0          5.9   \n",
       "2  6465534b7c96c756573deccd  1504320  The King's Speech    118.0          8.0   \n",
       "3  6465534b7c96c756573decbe  1243957        The Tourist    103.0          6.0   \n",
       "4  6465534b7c96c756573decd2  1386588     The Other Guys    107.0          6.6   \n",
       "\n",
       "    votes       budget  opening_weekend  gross_sales  \\\n",
       "0  306196   58000000.0       21761408.0  199006387.0   \n",
       "1  248747   80000000.0       40506562.0  271430189.0   \n",
       "2  672909   15000000.0              NaN  373700000.0   \n",
       "3  240865  100000000.0       16472458.0  278346189.0   \n",
       "4  264497  100000000.0       35543162.0  170432927.0   \n",
       "\n",
       "                                 genres  ...  \\\n",
       "0  [Action,  Comedy,  Crime,  Thriller]  ...   \n",
       "1                              [Comedy]  ...   \n",
       "2         [Biography,  Drama,  History]  ...   \n",
       "3                   [Action,  Thriller]  ...   \n",
       "4             [Action,  Comedy,  Crime]  ...   \n",
       "\n",
       "                                             company  \\\n",
       "0  [Summit Entertainment,  Di Bonaventura Picture...   \n",
       "1  [Columbia Pictures,  Relativity Media,  Happy ...   \n",
       "2  [The Weinstein Company,  UK Film Council,  Mom...   \n",
       "3  [GK Films,  Columbia Pictures,  Spyglass Enter...   \n",
       "4  [Columbia Pictures,  Gary Sanchez Productions,...   \n",
       "\n",
       "                                      companyTrimmed release_date_x  \\\n",
       "0  [Summit Entertainment, Di Bonaventura Pictures...     2010-09-29   \n",
       "1  [Columbia Pictures, Relativity Media, Happy Ma...     2010-06-24   \n",
       "2  [The Weinstein Company, UK Film Council, Momen...     2010-09-06   \n",
       "3  [GK Films, Columbia Pictures, Spyglass Enterta...     2010-12-06   \n",
       "4  [Columbia Pictures, Gary Sanchez Productions, ...     2010-08-02   \n",
       "\n",
       "                                    mpaaRating                     _id_y  \\\n",
       "0               [{'trim': {'input': 'PG-13'}}]  6476894895ef4140dc3759a9   \n",
       "1  [{'trim': {'input': 'TV-PG::(TV rating)'}}]  6476894895ef4140dc375a74   \n",
       "2  [{'trim': {'input': 'TV-14::(TV rating)'}}]  6476894895ef4140dc3758e3   \n",
       "3               [{'trim': {'input': 'PG-13'}}]  6476894895ef4140dc375a56   \n",
       "4  [{'trim': {'input': 'TV-MA::(TV rating)'}}]  6476894895ef4140dc375981   \n",
       "\n",
       "  movie_id release_date_y                                        description  \\\n",
       "0    15844     2010-10-15  Frank, Joe, Marvin and Victoria used to be the...   \n",
       "1    16047     2010-06-25  Grown Ups, starring Adam Sandler, Kevin James,...   \n",
       "2    15646     2010-11-26  Based on the true story of the Queen of Englan...   \n",
       "3    16017     2010-12-10  Johnny Depp stars as an American tourist whose...   \n",
       "4    15804     2010-08-06  Two mismatched New York City detectives seize ...   \n",
       "\n",
       "  score                                          thumbnail  \n",
       "0    60  https://static.metacritic.com/images/products/...  \n",
       "1    30  https://static.metacritic.com/images/products/...  \n",
       "2    88  https://static.metacritic.com/images/products/...  \n",
       "3    37  https://static.metacritic.com/images/products/...  \n",
       "4    64  https://static.metacritic.com/images/products/...  \n",
       "\n",
       "[5 rows x 27 columns]"
      ]
     },
     "execution_count": 5,
     "metadata": {},
     "output_type": "execute_result"
    }
   ],
   "source": [
    "#Merge the two datasets together using an inner join\n",
    "\n",
    "unified_view = pd.merge(df, metacritic_view, how=\"inner\", on=\"title\")\n",
    "unified_view.head()"
   ]
  },
  {
   "cell_type": "code",
   "execution_count": 6,
   "metadata": {},
   "outputs": [
    {
     "name": "stderr",
     "output_type": "stream",
     "text": [
      "Some layers from the model checkpoint at distilbert-base-uncased were not used when initializing TFDistilBertForMaskedLM: ['activation_13']\n",
      "- This IS expected if you are initializing TFDistilBertForMaskedLM from the checkpoint of a model trained on another task or with another architecture (e.g. initializing a BertForSequenceClassification model from a BertForPreTraining model).\n",
      "- This IS NOT expected if you are initializing TFDistilBertForMaskedLM from the checkpoint of a model that you expect to be exactly identical (initializing a BertForSequenceClassification model from a BertForSequenceClassification model).\n",
      "All the layers of TFDistilBertForMaskedLM were initialized from the model checkpoint at distilbert-base-uncased.\n",
      "If your task is similar to the task the model of the checkpoint was trained on, you can already use TFDistilBertForMaskedLM for predictions without further training.\n"
     ]
    }
   ],
   "source": [
    "import transformers\n",
    "classifier = transformers.pipeline(\"fill-mask\", model=\"distilbert-base-uncased\")"
   ]
  },
  {
   "cell_type": "code",
   "execution_count": 7,
   "metadata": {},
   "outputs": [
    {
     "name": "stdout",
     "output_type": "stream",
     "text": [
      "movies is!\n",
      "!\n",
      "0.1428605616092682\n",
      "movies is.\n",
      ".\n",
      "0.07446049153804779\n",
      "movies islington\n",
      "##lington\n",
      "0.018790876492857933\n",
      "movies is forever\n",
      "forever\n",
      "0.014888285659253597\n",
      "movies is cool\n",
      "cool\n",
      "0.014603724703192711\n"
     ]
    }
   ],
   "source": [
    "prompt = \"movies is [MASK]\"\n",
    "result = classifier(prompt)\n",
    "\n",
    "for prediction in result:\n",
    "    print(prediction['sequence'])\n",
    "    print(prediction['token_str'])\n",
    "    print(prediction['score'])"
   ]
  },
  {
   "cell_type": "code",
   "execution_count": 8,
   "metadata": {},
   "outputs": [
    {
     "name": "stdout",
     "output_type": "stream",
     "text": [
      "                        _id_x       id  \\\n",
      "0    6465534b7c96c756573decc0  1245526   \n",
      "1    6465534b7c96c756573decb6  1375670   \n",
      "2    6465534b7c96c756573deccd  1504320   \n",
      "3    6465534b7c96c756573decbe  1243957   \n",
      "4    6465534b7c96c756573decd2  1386588   \n",
      "..                        ...      ...   \n",
      "194  6465534c7c96c756573df021  1540814   \n",
      "195  6465534c7c96c756573df044  1572769   \n",
      "196  6465534c7c96c756573df04b  1484522   \n",
      "197  6465534c7c96c756573df082  1568923   \n",
      "198  6465534c7c96c756573defae   775543   \n",
      "\n",
      "                                          title  runtime  user_rating   votes  \\\n",
      "0                                           RED    111.0          7.0  306196   \n",
      "1                                     Grown Ups    102.0          5.9  248747   \n",
      "2                             The King's Speech    118.0          8.0  672909   \n",
      "3                                   The Tourist    103.0          6.0  240865   \n",
      "4                                The Other Guys    107.0          6.6  264497   \n",
      "..                                          ...      ...          ...     ...   \n",
      "194  Casino Jack and the United States of Money    118.0          7.1    1673   \n",
      "195                           Countdown to Zero     89.0          6.9    2248   \n",
      "196                   8: The Mormon Proposition     80.0          7.1    1250   \n",
      "197                           A Film Unfinished     88.0          7.4    1818   \n",
      "198                            Night Catches Us     90.0          6.2    1710   \n",
      "\n",
      "          budget  opening_weekend  gross_sales  \\\n",
      "0     58000000.0       21761408.0  199006387.0   \n",
      "1     80000000.0       40506562.0  271430189.0   \n",
      "2     15000000.0              NaN  373700000.0   \n",
      "3    100000000.0       16472458.0  278346189.0   \n",
      "4    100000000.0       35543162.0  170432927.0   \n",
      "..           ...              ...          ...   \n",
      "194          NaN          28234.0          NaN   \n",
      "195          NaN          41307.0          NaN   \n",
      "196    2500000.0          14093.0          NaN   \n",
      "197          NaN              NaN          NaN   \n",
      "198          NaN          13562.0          NaN   \n",
      "\n",
      "                                   genres  ...  \\\n",
      "0    [Action,  Comedy,  Crime,  Thriller]  ...   \n",
      "1                                [Comedy]  ...   \n",
      "2           [Biography,  Drama,  History]  ...   \n",
      "3                     [Action,  Thriller]  ...   \n",
      "4               [Action,  Comedy,  Crime]  ...   \n",
      "..                                    ...  ...   \n",
      "194                         [Documentary]  ...   \n",
      "195                         [Documentary]  ...   \n",
      "196                         [Documentary]  ...   \n",
      "197       [Documentary,  Drama,  History]  ...   \n",
      "198                     [Drama,  Romance]  ...   \n",
      "\n",
      "                                        companyTrimmed release_date_x  \\\n",
      "0    [Summit Entertainment, Di Bonaventura Pictures...     2010-09-29   \n",
      "1    [Columbia Pictures, Relativity Media, Happy Ma...     2010-06-24   \n",
      "2    [The Weinstein Company, UK Film Council, Momen...     2010-09-06   \n",
      "3    [GK Films, Columbia Pictures, Spyglass Enterta...     2010-12-06   \n",
      "4    [Columbia Pictures, Gary Sanchez Productions, ...     2010-08-02   \n",
      "..                                                 ...            ...   \n",
      "194  [Jigsaw Productions, Magnolia Pictures, Partic...     2010-01-22   \n",
      "195  [Lawrence Bender Productions, Nuclear Disarmam...     2010-01-25   \n",
      "196                           [David v. Goliath Films]     2010-01-24   \n",
      "197                                         [, , , , ]     2010-01-25   \n",
      "198       [SimonSays Entertainment, Gigantic Pictures]     2010-01-23   \n",
      "\n",
      "                                      mpaaRating                     _id_y  \\\n",
      "0                 [{'trim': {'input': 'PG-13'}}]  6476894895ef4140dc3759a9   \n",
      "1    [{'trim': {'input': 'TV-PG::(TV rating)'}}]  6476894895ef4140dc375a74   \n",
      "2    [{'trim': {'input': 'TV-14::(TV rating)'}}]  6476894895ef4140dc3758e3   \n",
      "3                 [{'trim': {'input': 'PG-13'}}]  6476894895ef4140dc375a56   \n",
      "4    [{'trim': {'input': 'TV-MA::(TV rating)'}}]  6476894895ef4140dc375981   \n",
      "..                                           ...                       ...   \n",
      "194                   [{'trim': {'input': 'R'}}]  6476894895ef4140dc375956   \n",
      "195                  [{'trim': {'input': 'PG'}}]  6476894895ef4140dc375944   \n",
      "196                   [{'trim': {'input': 'R'}}]  6476894895ef4140dc3759dc   \n",
      "197             [{'trim': {'input': 'Unrated'}}]  6476894895ef4140dc3758e1   \n",
      "198                   [{'trim': {'input': 'R'}}]  6476894895ef4140dc37597b   \n",
      "\n",
      "    movie_id release_date_y  \\\n",
      "0      15844     2010-10-15   \n",
      "1      16047     2010-06-25   \n",
      "2      15646     2010-11-26   \n",
      "3      16017     2010-12-10   \n",
      "4      15804     2010-08-06   \n",
      "..       ...            ...   \n",
      "194    15761     2010-05-07   \n",
      "195    15743     2010-07-23   \n",
      "196    15895     2010-06-18   \n",
      "197    15644     2010-08-18   \n",
      "198    15798     2010-12-03   \n",
      "\n",
      "                                           description score  \\\n",
      "0    Frank, Joe, Marvin and Victoria used to be the...    60   \n",
      "1    Grown Ups, starring Adam Sandler, Kevin James,...    30   \n",
      "2    Based on the true story of the Queen of Englan...    88   \n",
      "3    Johnny Depp stars as an American tourist whose...    37   \n",
      "4    Two mismatched New York City detectives seize ...    64   \n",
      "..                                                 ...   ...   \n",
      "194  This portrait of Washington super lobbyist Jac...    68   \n",
      "195  Countdown to Zero traces the history of the at...    70   \n",
      "196  Director Reed Cowan experienced first-hand wha...    55   \n",
      "197  Yael Hersonski's powerful documentary achieves...    88   \n",
      "198  In 1976, after years of mysterious absence, Ma...    65   \n",
      "\n",
      "                                             thumbnail Sentiment  \n",
      "0    https://static.metacritic.com/images/products/...    tragic  \n",
      "1    https://static.metacritic.com/images/products/...     happy  \n",
      "2    https://static.metacritic.com/images/products/...     happy  \n",
      "3    https://static.metacritic.com/images/products/...    tragic  \n",
      "4    https://static.metacritic.com/images/products/...    tragic  \n",
      "..                                                 ...       ...  \n",
      "194  https://static.metacritic.com/images/products/...    tragic  \n",
      "195  https://static.metacritic.com/images/products/...    tragic  \n",
      "196  https://static.metacritic.com/images/products/...    tragic  \n",
      "197  https://static.metacritic.com/images/products/...    tragic  \n",
      "198  https://static.metacritic.com/images/products/...    tragic  \n",
      "\n",
      "[199 rows x 28 columns]\n"
     ]
    }
   ],
   "source": [
    "predictions = []\n",
    "for _, row in unified_view.iterrows():\n",
    "    plot_summary = row[\"description\"]\n",
    "\n",
    "    # Create the prompt to classify the movie as \"happy\" or \"sad\"\n",
    "    prompt = f\"This movie is about {plot_summary}. The movie has a [MASK] ending.\"\n",
    "\n",
    "    # Use the classifier to predict the sentiment of the movie\n",
    "    result = classifier(prompt)\n",
    "\n",
    "    # Get the top predicted sentiment and its score\n",
    "    predicted_sentiment = result[0][\"token_str\"]\n",
    "    sentiment_score = result[0][\"score\"]\n",
    "\n",
    "    # Add the prediction to the list\n",
    "    predictions.append(predicted_sentiment)\n",
    "\n",
    "# Add the predictions to the dataset as a new column\n",
    "unified_view[\"Sentiment\"] = predictions\n",
    "\n",
    "# Print the updated dataset\n",
    "print(unified_view)"
   ]
  },
  {
   "cell_type": "code",
   "execution_count": 9,
   "metadata": {},
   "outputs": [
    {
     "data": {
      "application/vnd.plotly.v1+json": {
       "config": {
        "plotlyServerURL": "https://plot.ly"
       },
       "data": [
        {
         "alignmentgroup": "True",
         "hovertemplate": "rating_type=user_rating<br>Sentiment=%{x}<br>rating_value=%{y}<extra></extra>",
         "legendgroup": "user_rating",
         "marker": {
          "color": "#636efa"
         },
         "name": "user_rating",
         "notched": false,
         "offsetgroup": "user_rating",
         "orientation": "v",
         "showlegend": true,
         "type": "box",
         "x": [
          "tragic",
          "happy",
          "happy",
          "tragic",
          "tragic",
          "tragic",
          "tragic",
          "happy",
          "tragic",
          "happy",
          "tragic",
          "tragic",
          "tragic",
          "tragic",
          "tragic",
          "tragic",
          "happy",
          "tragic",
          "different",
          "happy",
          "tragic",
          "tragic",
          "tragic",
          "different",
          "different",
          "happy",
          "happy",
          "different",
          "tragic",
          "tragic",
          "tragic",
          "happy",
          "happy",
          "tragic",
          "tragic",
          "twist",
          "different",
          "tragic",
          "tragic",
          "tragic",
          "happy",
          "tragic",
          "tragic",
          "tragic",
          "tragic",
          "tragic",
          "tragic",
          "tragic",
          "happy",
          "happy",
          "happy",
          "tragic",
          "tragic",
          "happy",
          "tragic",
          "happy",
          "happy",
          "happy",
          "tragic",
          "predictable",
          "happy",
          "tragic",
          "tragic",
          "predictable",
          "tragic",
          "happy",
          "tragic",
          "happy",
          "happy",
          "tragic",
          "happy",
          "tragic",
          "tragic",
          "twist",
          "different",
          "happy",
          "tragic",
          "tragic",
          "happy",
          "tragic",
          "different",
          "tragic",
          "happy",
          "happy",
          "happy",
          "tragic",
          "happy",
          "tragic",
          "happy",
          "tragic",
          "tragic",
          "happy",
          "tragic",
          "happy",
          "tragic",
          "tragic",
          "happy",
          "happy",
          "happy",
          "different",
          "tragic",
          "happy",
          "tragic",
          "happy",
          "tragic",
          "happy",
          "tragic",
          "happy",
          "happy",
          "tragic",
          "tragic",
          "tragic",
          "tragic",
          "happy",
          "tragic",
          "tragic",
          "happy",
          "different",
          "tragic",
          "tragic",
          "tragic",
          "happy",
          "tragic",
          "tragic",
          "tragic",
          "tragic",
          "tragic",
          "tragic",
          "tragic",
          "tragic",
          "tragic",
          "twist",
          "happy",
          "tragic",
          "tragic",
          "tragic",
          "tragic",
          "happy",
          "happy",
          "tragic",
          "tragic",
          "tragic",
          "happy",
          "happy",
          "happy",
          "twist",
          "happy",
          "tragic",
          "tragic",
          "tragic",
          "happy",
          "tragic",
          "tragic",
          "happy",
          "tragic",
          "happy",
          "tragic",
          "happy",
          "tragic",
          "tragic",
          "tragic",
          "tragic",
          "tragic",
          "tragic",
          "tragic",
          "tragic",
          "tragic",
          "tragic",
          "tragic",
          "tragic",
          "tragic",
          "tragic",
          "tragic",
          "happy",
          "tragic",
          "different",
          "tragic",
          "tragic",
          "predictable",
          "happy",
          "happy",
          "tragic",
          "tragic",
          "tragic",
          "happy",
          "happy",
          "tragic",
          "twist",
          "tragic",
          "happy",
          "happy",
          "tragic",
          "tragic",
          "tragic",
          "tragic",
          "tragic",
          "tragic",
          "tragic",
          "tragic"
         ],
         "x0": " ",
         "xaxis": "x",
         "y": [
          7,
          5.9,
          8,
          6,
          6.6,
          6.8,
          6.6,
          7.7,
          6.3,
          7.6,
          6.4,
          7.8,
          6.4,
          6.4,
          7.3,
          6.3,
          6.2,
          4.5,
          6.6,
          6.2,
          6.5,
          6.3,
          5.2,
          6.3,
          6.3,
          6.9,
          6.1,
          7.7,
          5.5,
          7.1,
          7.5,
          4.3,
          7.6,
          6.3,
          7.5,
          6.5,
          8.1,
          5.7,
          6.5,
          5.8,
          7,
          5.5,
          6.1,
          4,
          6.1,
          7.2,
          7.1,
          6.5,
          6.3,
          6.4,
          6.3,
          6.2,
          5.9,
          7,
          8.2,
          5.9,
          5.9,
          6.4,
          6.5,
          5.5,
          6.4,
          5.6,
          6.8,
          6.3,
          7.4,
          5.3,
          6.4,
          6.2,
          8.3,
          7.6,
          6.9,
          5.2,
          6.3,
          6.4,
          6.4,
          6.8,
          5.8,
          6.1,
          6.3,
          6.2,
          4.5,
          6.8,
          6.3,
          4.5,
          6.1,
          7.8,
          5.4,
          7.3,
          6.4,
          7.6,
          6.6,
          6.4,
          6.6,
          5.9,
          7.3,
          5.8,
          5,
          7.1,
          5.7,
          5.7,
          5.7,
          5.1,
          8.8,
          6.4,
          7.1,
          7.2,
          6.8,
          7.4,
          6.5,
          7,
          6.3,
          5.8,
          5.4,
          5.5,
          7.2,
          5.7,
          4.9,
          8.2,
          8,
          5.8,
          7,
          6.1,
          6.5,
          4.7,
          6.7,
          6.1,
          6.2,
          6.2,
          6.3,
          6.2,
          5,
          6.7,
          7.1,
          6.5,
          6.4,
          6.3,
          6.3,
          7.9,
          3.4,
          5.4,
          8,
          4.6,
          6.9,
          7.2,
          4.6,
          5.4,
          7.4,
          5.4,
          7.1,
          7.2,
          5,
          5.8,
          5.6,
          7.3,
          6.3,
          5,
          5,
          7,
          4.3,
          7.8,
          4.5,
          6.3,
          6.2,
          7.4,
          6.6,
          6.6,
          6.1,
          6.6,
          6.6,
          5.3,
          4.7,
          6.7,
          7.5,
          6.2,
          6.4,
          5.1,
          6.3,
          6.3,
          7.1,
          5.5,
          6.1,
          6,
          7.5,
          6.3,
          3.8,
          5.6,
          7.8,
          7.1,
          5.8,
          5.3,
          5.1,
          7.8,
          7.3,
          7.1,
          7.1,
          6.9,
          7.1,
          7.4,
          6.2
         ],
         "y0": " ",
         "yaxis": "y"
        },
        {
         "alignmentgroup": "True",
         "hovertemplate": "rating_type=score<br>Sentiment=%{x}<br>rating_value=%{y}<extra></extra>",
         "legendgroup": "score",
         "marker": {
          "color": "#EF553B"
         },
         "name": "score",
         "notched": false,
         "offsetgroup": "score",
         "orientation": "v",
         "showlegend": true,
         "type": "box",
         "x": [
          "tragic",
          "happy",
          "happy",
          "tragic",
          "tragic",
          "tragic",
          "tragic",
          "happy",
          "tragic",
          "happy",
          "tragic",
          "tragic",
          "tragic",
          "tragic",
          "tragic",
          "tragic",
          "happy",
          "tragic",
          "different",
          "happy",
          "tragic",
          "tragic",
          "tragic",
          "different",
          "different",
          "happy",
          "happy",
          "different",
          "tragic",
          "tragic",
          "tragic",
          "happy",
          "happy",
          "tragic",
          "tragic",
          "twist",
          "different",
          "tragic",
          "tragic",
          "tragic",
          "happy",
          "tragic",
          "tragic",
          "tragic",
          "tragic",
          "tragic",
          "tragic",
          "tragic",
          "happy",
          "happy",
          "happy",
          "tragic",
          "tragic",
          "happy",
          "tragic",
          "happy",
          "happy",
          "happy",
          "tragic",
          "predictable",
          "happy",
          "tragic",
          "tragic",
          "predictable",
          "tragic",
          "happy",
          "tragic",
          "happy",
          "happy",
          "tragic",
          "happy",
          "tragic",
          "tragic",
          "twist",
          "different",
          "happy",
          "tragic",
          "tragic",
          "happy",
          "tragic",
          "different",
          "tragic",
          "happy",
          "happy",
          "happy",
          "tragic",
          "happy",
          "tragic",
          "happy",
          "tragic",
          "tragic",
          "happy",
          "tragic",
          "happy",
          "tragic",
          "tragic",
          "happy",
          "happy",
          "happy",
          "different",
          "tragic",
          "happy",
          "tragic",
          "happy",
          "tragic",
          "happy",
          "tragic",
          "happy",
          "happy",
          "tragic",
          "tragic",
          "tragic",
          "tragic",
          "happy",
          "tragic",
          "tragic",
          "happy",
          "different",
          "tragic",
          "tragic",
          "tragic",
          "happy",
          "tragic",
          "tragic",
          "tragic",
          "tragic",
          "tragic",
          "tragic",
          "tragic",
          "tragic",
          "tragic",
          "twist",
          "happy",
          "tragic",
          "tragic",
          "tragic",
          "tragic",
          "happy",
          "happy",
          "tragic",
          "tragic",
          "tragic",
          "happy",
          "happy",
          "happy",
          "twist",
          "happy",
          "tragic",
          "tragic",
          "tragic",
          "happy",
          "tragic",
          "tragic",
          "happy",
          "tragic",
          "happy",
          "tragic",
          "happy",
          "tragic",
          "tragic",
          "tragic",
          "tragic",
          "tragic",
          "tragic",
          "tragic",
          "tragic",
          "tragic",
          "tragic",
          "tragic",
          "tragic",
          "tragic",
          "tragic",
          "tragic",
          "happy",
          "tragic",
          "different",
          "tragic",
          "tragic",
          "predictable",
          "happy",
          "happy",
          "tragic",
          "tragic",
          "tragic",
          "happy",
          "happy",
          "tragic",
          "twist",
          "tragic",
          "happy",
          "happy",
          "tragic",
          "tragic",
          "tragic",
          "tragic",
          "tragic",
          "tragic",
          "tragic",
          "tragic"
         ],
         "x0": " ",
         "xaxis": "x",
         "y": [
          6,
          3,
          8.8,
          3.7,
          6.4,
          4.9,
          5.3,
          7.1,
          4.4,
          8,
          4.6,
          7.9,
          4.5,
          5.1,
          8.3,
          4.3,
          6.1,
          2.7,
          5,
          4.5,
          5.1,
          5.3,
          3.2,
          4.4,
          5.8,
          5.3,
          5.2,
          4.5,
          2.7,
          9,
          6.9,
          3,
          7.2,
          6.7,
          7.4,
          5.6,
          7.5,
          5.1,
          5.6,
          4.7,
          7.2,
          2.5,
          5,
          2,
          5.2,
          6.1,
          6.9,
          5.7,
          5.6,
          3.7,
          6.5,
          6.4,
          5.1,
          8.6,
          8.8,
          3.3,
          3.3,
          3.3,
          5,
          3.1,
          4.2,
          4.3,
          6.9,
          5.1,
          5.8,
          3.4,
          4.5,
          5.6,
          9.2,
          6.6,
          5.7,
          3.5,
          5.7,
          6.5,
          4.4,
          6.9,
          4.3,
          4.3,
          6.2,
          5.9,
          2.6,
          6.3,
          7.4,
          7.4,
          7.6,
          9.5,
          4.6,
          6.3,
          6.3,
          8.2,
          6,
          4.7,
          5.5,
          5.6,
          5.2,
          3.7,
          3.6,
          6.3,
          2.8,
          5.3,
          6.3,
          3.6,
          7.4,
          5.3,
          4,
          7.7,
          5.3,
          8.1,
          3.9,
          7.6,
          6.1,
          5,
          2.1,
          2.2,
          6.8,
          3.4,
          3.3,
          6.3,
          7.9,
          3.9,
          6.5,
          4.6,
          6.5,
          3.3,
          4.1,
          5.3,
          4.8,
          4.5,
          4.6,
          2.7,
          5.8,
          4.7,
          7.9,
          5.6,
          6.3,
          4.5,
          3.2,
          5,
          1.8,
          2.7,
          8.5,
          4.3,
          5,
          6.1,
          3.5,
          4.9,
          8.5,
          5.8,
          6.5,
          5.7,
          5,
          5.1,
          2.2,
          8,
          5.1,
          4.3,
          3.8,
          6.3,
          3,
          7.4,
          4,
          6.2,
          5.1,
          6.9,
          6.3,
          3.9,
          3.9,
          7.8,
          5.9,
          4.3,
          2.5,
          5.9,
          8.2,
          7.2,
          4.7,
          5.4,
          6.4,
          5.8,
          7.6,
          2.1,
          3.1,
          6.2,
          8.2,
          7.5,
          2.3,
          3.7,
          7.8,
          6.5,
          5.6,
          4,
          2.4,
          8.6,
          7.9,
          6.3,
          6.8,
          7,
          5.5,
          8.8,
          6.5
         ],
         "y0": " ",
         "yaxis": "y"
        }
       ],
       "layout": {
        "boxmode": "group",
        "legend": {
         "title": {
          "text": "rating_type"
         },
         "tracegroupgap": 0
        },
        "margin": {
         "t": 60
        },
        "template": {
         "data": {
          "bar": [
           {
            "error_x": {
             "color": "#2a3f5f"
            },
            "error_y": {
             "color": "#2a3f5f"
            },
            "marker": {
             "line": {
              "color": "#E5ECF6",
              "width": 0.5
             },
             "pattern": {
              "fillmode": "overlay",
              "size": 10,
              "solidity": 0.2
             }
            },
            "type": "bar"
           }
          ],
          "barpolar": [
           {
            "marker": {
             "line": {
              "color": "#E5ECF6",
              "width": 0.5
             },
             "pattern": {
              "fillmode": "overlay",
              "size": 10,
              "solidity": 0.2
             }
            },
            "type": "barpolar"
           }
          ],
          "carpet": [
           {
            "aaxis": {
             "endlinecolor": "#2a3f5f",
             "gridcolor": "white",
             "linecolor": "white",
             "minorgridcolor": "white",
             "startlinecolor": "#2a3f5f"
            },
            "baxis": {
             "endlinecolor": "#2a3f5f",
             "gridcolor": "white",
             "linecolor": "white",
             "minorgridcolor": "white",
             "startlinecolor": "#2a3f5f"
            },
            "type": "carpet"
           }
          ],
          "choropleth": [
           {
            "colorbar": {
             "outlinewidth": 0,
             "ticks": ""
            },
            "type": "choropleth"
           }
          ],
          "contour": [
           {
            "colorbar": {
             "outlinewidth": 0,
             "ticks": ""
            },
            "colorscale": [
             [
              0,
              "#0d0887"
             ],
             [
              0.1111111111111111,
              "#46039f"
             ],
             [
              0.2222222222222222,
              "#7201a8"
             ],
             [
              0.3333333333333333,
              "#9c179e"
             ],
             [
              0.4444444444444444,
              "#bd3786"
             ],
             [
              0.5555555555555556,
              "#d8576b"
             ],
             [
              0.6666666666666666,
              "#ed7953"
             ],
             [
              0.7777777777777778,
              "#fb9f3a"
             ],
             [
              0.8888888888888888,
              "#fdca26"
             ],
             [
              1,
              "#f0f921"
             ]
            ],
            "type": "contour"
           }
          ],
          "contourcarpet": [
           {
            "colorbar": {
             "outlinewidth": 0,
             "ticks": ""
            },
            "type": "contourcarpet"
           }
          ],
          "heatmap": [
           {
            "colorbar": {
             "outlinewidth": 0,
             "ticks": ""
            },
            "colorscale": [
             [
              0,
              "#0d0887"
             ],
             [
              0.1111111111111111,
              "#46039f"
             ],
             [
              0.2222222222222222,
              "#7201a8"
             ],
             [
              0.3333333333333333,
              "#9c179e"
             ],
             [
              0.4444444444444444,
              "#bd3786"
             ],
             [
              0.5555555555555556,
              "#d8576b"
             ],
             [
              0.6666666666666666,
              "#ed7953"
             ],
             [
              0.7777777777777778,
              "#fb9f3a"
             ],
             [
              0.8888888888888888,
              "#fdca26"
             ],
             [
              1,
              "#f0f921"
             ]
            ],
            "type": "heatmap"
           }
          ],
          "heatmapgl": [
           {
            "colorbar": {
             "outlinewidth": 0,
             "ticks": ""
            },
            "colorscale": [
             [
              0,
              "#0d0887"
             ],
             [
              0.1111111111111111,
              "#46039f"
             ],
             [
              0.2222222222222222,
              "#7201a8"
             ],
             [
              0.3333333333333333,
              "#9c179e"
             ],
             [
              0.4444444444444444,
              "#bd3786"
             ],
             [
              0.5555555555555556,
              "#d8576b"
             ],
             [
              0.6666666666666666,
              "#ed7953"
             ],
             [
              0.7777777777777778,
              "#fb9f3a"
             ],
             [
              0.8888888888888888,
              "#fdca26"
             ],
             [
              1,
              "#f0f921"
             ]
            ],
            "type": "heatmapgl"
           }
          ],
          "histogram": [
           {
            "marker": {
             "pattern": {
              "fillmode": "overlay",
              "size": 10,
              "solidity": 0.2
             }
            },
            "type": "histogram"
           }
          ],
          "histogram2d": [
           {
            "colorbar": {
             "outlinewidth": 0,
             "ticks": ""
            },
            "colorscale": [
             [
              0,
              "#0d0887"
             ],
             [
              0.1111111111111111,
              "#46039f"
             ],
             [
              0.2222222222222222,
              "#7201a8"
             ],
             [
              0.3333333333333333,
              "#9c179e"
             ],
             [
              0.4444444444444444,
              "#bd3786"
             ],
             [
              0.5555555555555556,
              "#d8576b"
             ],
             [
              0.6666666666666666,
              "#ed7953"
             ],
             [
              0.7777777777777778,
              "#fb9f3a"
             ],
             [
              0.8888888888888888,
              "#fdca26"
             ],
             [
              1,
              "#f0f921"
             ]
            ],
            "type": "histogram2d"
           }
          ],
          "histogram2dcontour": [
           {
            "colorbar": {
             "outlinewidth": 0,
             "ticks": ""
            },
            "colorscale": [
             [
              0,
              "#0d0887"
             ],
             [
              0.1111111111111111,
              "#46039f"
             ],
             [
              0.2222222222222222,
              "#7201a8"
             ],
             [
              0.3333333333333333,
              "#9c179e"
             ],
             [
              0.4444444444444444,
              "#bd3786"
             ],
             [
              0.5555555555555556,
              "#d8576b"
             ],
             [
              0.6666666666666666,
              "#ed7953"
             ],
             [
              0.7777777777777778,
              "#fb9f3a"
             ],
             [
              0.8888888888888888,
              "#fdca26"
             ],
             [
              1,
              "#f0f921"
             ]
            ],
            "type": "histogram2dcontour"
           }
          ],
          "mesh3d": [
           {
            "colorbar": {
             "outlinewidth": 0,
             "ticks": ""
            },
            "type": "mesh3d"
           }
          ],
          "parcoords": [
           {
            "line": {
             "colorbar": {
              "outlinewidth": 0,
              "ticks": ""
             }
            },
            "type": "parcoords"
           }
          ],
          "pie": [
           {
            "automargin": true,
            "type": "pie"
           }
          ],
          "scatter": [
           {
            "fillpattern": {
             "fillmode": "overlay",
             "size": 10,
             "solidity": 0.2
            },
            "type": "scatter"
           }
          ],
          "scatter3d": [
           {
            "line": {
             "colorbar": {
              "outlinewidth": 0,
              "ticks": ""
             }
            },
            "marker": {
             "colorbar": {
              "outlinewidth": 0,
              "ticks": ""
             }
            },
            "type": "scatter3d"
           }
          ],
          "scattercarpet": [
           {
            "marker": {
             "colorbar": {
              "outlinewidth": 0,
              "ticks": ""
             }
            },
            "type": "scattercarpet"
           }
          ],
          "scattergeo": [
           {
            "marker": {
             "colorbar": {
              "outlinewidth": 0,
              "ticks": ""
             }
            },
            "type": "scattergeo"
           }
          ],
          "scattergl": [
           {
            "marker": {
             "colorbar": {
              "outlinewidth": 0,
              "ticks": ""
             }
            },
            "type": "scattergl"
           }
          ],
          "scattermapbox": [
           {
            "marker": {
             "colorbar": {
              "outlinewidth": 0,
              "ticks": ""
             }
            },
            "type": "scattermapbox"
           }
          ],
          "scatterpolar": [
           {
            "marker": {
             "colorbar": {
              "outlinewidth": 0,
              "ticks": ""
             }
            },
            "type": "scatterpolar"
           }
          ],
          "scatterpolargl": [
           {
            "marker": {
             "colorbar": {
              "outlinewidth": 0,
              "ticks": ""
             }
            },
            "type": "scatterpolargl"
           }
          ],
          "scatterternary": [
           {
            "marker": {
             "colorbar": {
              "outlinewidth": 0,
              "ticks": ""
             }
            },
            "type": "scatterternary"
           }
          ],
          "surface": [
           {
            "colorbar": {
             "outlinewidth": 0,
             "ticks": ""
            },
            "colorscale": [
             [
              0,
              "#0d0887"
             ],
             [
              0.1111111111111111,
              "#46039f"
             ],
             [
              0.2222222222222222,
              "#7201a8"
             ],
             [
              0.3333333333333333,
              "#9c179e"
             ],
             [
              0.4444444444444444,
              "#bd3786"
             ],
             [
              0.5555555555555556,
              "#d8576b"
             ],
             [
              0.6666666666666666,
              "#ed7953"
             ],
             [
              0.7777777777777778,
              "#fb9f3a"
             ],
             [
              0.8888888888888888,
              "#fdca26"
             ],
             [
              1,
              "#f0f921"
             ]
            ],
            "type": "surface"
           }
          ],
          "table": [
           {
            "cells": {
             "fill": {
              "color": "#EBF0F8"
             },
             "line": {
              "color": "white"
             }
            },
            "header": {
             "fill": {
              "color": "#C8D4E3"
             },
             "line": {
              "color": "white"
             }
            },
            "type": "table"
           }
          ]
         },
         "layout": {
          "annotationdefaults": {
           "arrowcolor": "#2a3f5f",
           "arrowhead": 0,
           "arrowwidth": 1
          },
          "autotypenumbers": "strict",
          "coloraxis": {
           "colorbar": {
            "outlinewidth": 0,
            "ticks": ""
           }
          },
          "colorscale": {
           "diverging": [
            [
             0,
             "#8e0152"
            ],
            [
             0.1,
             "#c51b7d"
            ],
            [
             0.2,
             "#de77ae"
            ],
            [
             0.3,
             "#f1b6da"
            ],
            [
             0.4,
             "#fde0ef"
            ],
            [
             0.5,
             "#f7f7f7"
            ],
            [
             0.6,
             "#e6f5d0"
            ],
            [
             0.7,
             "#b8e186"
            ],
            [
             0.8,
             "#7fbc41"
            ],
            [
             0.9,
             "#4d9221"
            ],
            [
             1,
             "#276419"
            ]
           ],
           "sequential": [
            [
             0,
             "#0d0887"
            ],
            [
             0.1111111111111111,
             "#46039f"
            ],
            [
             0.2222222222222222,
             "#7201a8"
            ],
            [
             0.3333333333333333,
             "#9c179e"
            ],
            [
             0.4444444444444444,
             "#bd3786"
            ],
            [
             0.5555555555555556,
             "#d8576b"
            ],
            [
             0.6666666666666666,
             "#ed7953"
            ],
            [
             0.7777777777777778,
             "#fb9f3a"
            ],
            [
             0.8888888888888888,
             "#fdca26"
            ],
            [
             1,
             "#f0f921"
            ]
           ],
           "sequentialminus": [
            [
             0,
             "#0d0887"
            ],
            [
             0.1111111111111111,
             "#46039f"
            ],
            [
             0.2222222222222222,
             "#7201a8"
            ],
            [
             0.3333333333333333,
             "#9c179e"
            ],
            [
             0.4444444444444444,
             "#bd3786"
            ],
            [
             0.5555555555555556,
             "#d8576b"
            ],
            [
             0.6666666666666666,
             "#ed7953"
            ],
            [
             0.7777777777777778,
             "#fb9f3a"
            ],
            [
             0.8888888888888888,
             "#fdca26"
            ],
            [
             1,
             "#f0f921"
            ]
           ]
          },
          "colorway": [
           "#636efa",
           "#EF553B",
           "#00cc96",
           "#ab63fa",
           "#FFA15A",
           "#19d3f3",
           "#FF6692",
           "#B6E880",
           "#FF97FF",
           "#FECB52"
          ],
          "font": {
           "color": "#2a3f5f"
          },
          "geo": {
           "bgcolor": "white",
           "lakecolor": "white",
           "landcolor": "#E5ECF6",
           "showlakes": true,
           "showland": true,
           "subunitcolor": "white"
          },
          "hoverlabel": {
           "align": "left"
          },
          "hovermode": "closest",
          "mapbox": {
           "style": "light"
          },
          "paper_bgcolor": "white",
          "plot_bgcolor": "#E5ECF6",
          "polar": {
           "angularaxis": {
            "gridcolor": "white",
            "linecolor": "white",
            "ticks": ""
           },
           "bgcolor": "#E5ECF6",
           "radialaxis": {
            "gridcolor": "white",
            "linecolor": "white",
            "ticks": ""
           }
          },
          "scene": {
           "xaxis": {
            "backgroundcolor": "#E5ECF6",
            "gridcolor": "white",
            "gridwidth": 2,
            "linecolor": "white",
            "showbackground": true,
            "ticks": "",
            "zerolinecolor": "white"
           },
           "yaxis": {
            "backgroundcolor": "#E5ECF6",
            "gridcolor": "white",
            "gridwidth": 2,
            "linecolor": "white",
            "showbackground": true,
            "ticks": "",
            "zerolinecolor": "white"
           },
           "zaxis": {
            "backgroundcolor": "#E5ECF6",
            "gridcolor": "white",
            "gridwidth": 2,
            "linecolor": "white",
            "showbackground": true,
            "ticks": "",
            "zerolinecolor": "white"
           }
          },
          "shapedefaults": {
           "line": {
            "color": "#2a3f5f"
           }
          },
          "ternary": {
           "aaxis": {
            "gridcolor": "white",
            "linecolor": "white",
            "ticks": ""
           },
           "baxis": {
            "gridcolor": "white",
            "linecolor": "white",
            "ticks": ""
           },
           "bgcolor": "#E5ECF6",
           "caxis": {
            "gridcolor": "white",
            "linecolor": "white",
            "ticks": ""
           }
          },
          "title": {
           "x": 0.05
          },
          "xaxis": {
           "automargin": true,
           "gridcolor": "white",
           "linecolor": "white",
           "ticks": "",
           "title": {
            "standoff": 15
           },
           "zerolinecolor": "white",
           "zerolinewidth": 2
          },
          "yaxis": {
           "automargin": true,
           "gridcolor": "white",
           "linecolor": "white",
           "ticks": "",
           "title": {
            "standoff": 15
           },
           "zerolinecolor": "white",
           "zerolinewidth": 2
          }
         }
        },
        "xaxis": {
         "anchor": "y",
         "domain": [
          0,
          1
         ],
         "title": {
          "text": "Sentiment"
         }
        },
        "yaxis": {
         "anchor": "x",
         "domain": [
          0,
          1
         ],
         "title": {
          "text": "rating_value"
         }
        }
       }
      }
     },
     "metadata": {},
     "output_type": "display_data"
    }
   ],
   "source": [
    "import plotly.express as px\n",
    "\n",
    "unified_view['score'] = unified_view['score'] / 10\n",
    "\n",
    "# Reshape the data\n",
    "df_melt = pd.melt(unified_view, id_vars='Sentiment', value_vars=['user_rating', 'score'], \n",
    "                  var_name='rating_type', value_name='rating_value')\n",
    "\n",
    "# Create boxplot\n",
    "fig = px.box(df_melt, x=\"Sentiment\", y=\"rating_value\", color=\"rating_type\")\n",
    "fig.show()"
   ]
  },
  {
   "cell_type": "code",
   "execution_count": 10,
   "metadata": {},
   "outputs": [],
   "source": [
    "#This graph tells the user rating and score of movies with different type of endings. I can deduct from here that movies with happy endings has a median score of 5.2 and a median user rating of 6.3. \n"
   ]
  },
  {
   "cell_type": "code",
   "execution_count": 11,
   "metadata": {},
   "outputs": [
    {
     "data": {
      "application/vnd.plotly.v1+json": {
       "config": {
        "plotlyServerURL": "https://plot.ly"
       },
       "data": [
        {
         "alignmentgroup": "True",
         "hovertemplate": "Sentiment=happy<br>Month=%{x}<br>Count=%{y}<extra></extra>",
         "legendgroup": "happy",
         "marker": {
          "color": "#636efa",
          "pattern": {
           "shape": ""
          }
         },
         "name": "happy",
         "offsetgroup": "happy",
         "orientation": "v",
         "showlegend": true,
         "textposition": "auto",
         "type": "bar",
         "x": [
          1,
          2,
          3,
          4,
          5,
          6,
          7,
          8,
          9,
          10,
          11,
          12
         ],
         "xaxis": "x",
         "y": [
          4,
          3,
          6,
          4,
          2,
          9,
          5,
          5,
          5,
          7,
          5,
          6
         ],
         "yaxis": "y"
        },
        {
         "alignmentgroup": "True",
         "hovertemplate": "Sentiment=tragic<br>Month=%{x}<br>Count=%{y}<extra></extra>",
         "legendgroup": "tragic",
         "marker": {
          "color": "#EF553B",
          "pattern": {
           "shape": ""
          }
         },
         "name": "tragic",
         "offsetgroup": "tragic",
         "orientation": "v",
         "showlegend": true,
         "textposition": "auto",
         "type": "bar",
         "x": [
          1,
          2,
          3,
          4,
          5,
          6,
          7,
          8,
          9,
          10,
          11,
          12
         ],
         "xaxis": "x",
         "y": [
          6,
          6,
          6,
          8,
          8,
          8,
          8,
          12,
          15,
          14,
          11,
          18
         ],
         "yaxis": "y"
        },
        {
         "alignmentgroup": "True",
         "hovertemplate": "Sentiment=different<br>Month=%{x}<br>Count=%{y}<extra></extra>",
         "legendgroup": "different",
         "marker": {
          "color": "#00cc96",
          "pattern": {
           "shape": ""
          }
         },
         "name": "different",
         "offsetgroup": "different",
         "orientation": "v",
         "showlegend": true,
         "textposition": "auto",
         "type": "bar",
         "x": [
          2,
          3,
          5,
          8,
          9,
          10,
          11
         ],
         "xaxis": "x",
         "y": [
          1,
          1,
          2,
          1,
          2,
          1,
          2
         ],
         "yaxis": "y"
        },
        {
         "alignmentgroup": "True",
         "hovertemplate": "Sentiment=predictable<br>Month=%{x}<br>Count=%{y}<extra></extra>",
         "legendgroup": "predictable",
         "marker": {
          "color": "#ab63fa",
          "pattern": {
           "shape": ""
          }
         },
         "name": "predictable",
         "offsetgroup": "predictable",
         "orientation": "v",
         "showlegend": true,
         "textposition": "auto",
         "type": "bar",
         "x": [
          2,
          9,
          12
         ],
         "xaxis": "x",
         "y": [
          1,
          1,
          1
         ],
         "yaxis": "y"
        },
        {
         "alignmentgroup": "True",
         "hovertemplate": "Sentiment=twist<br>Month=%{x}<br>Count=%{y}<extra></extra>",
         "legendgroup": "twist",
         "marker": {
          "color": "#FFA15A",
          "pattern": {
           "shape": ""
          }
         },
         "name": "twist",
         "offsetgroup": "twist",
         "orientation": "v",
         "showlegend": true,
         "textposition": "auto",
         "type": "bar",
         "x": [
          6,
          7,
          10,
          11
         ],
         "xaxis": "x",
         "y": [
          1,
          1,
          2,
          1
         ],
         "yaxis": "y"
        }
       ],
       "layout": {
        "barmode": "group",
        "legend": {
         "title": {
          "text": "Sentiment"
         },
         "tracegroupgap": 0
        },
        "margin": {
         "t": 60
        },
        "template": {
         "data": {
          "bar": [
           {
            "error_x": {
             "color": "#2a3f5f"
            },
            "error_y": {
             "color": "#2a3f5f"
            },
            "marker": {
             "line": {
              "color": "#E5ECF6",
              "width": 0.5
             },
             "pattern": {
              "fillmode": "overlay",
              "size": 10,
              "solidity": 0.2
             }
            },
            "type": "bar"
           }
          ],
          "barpolar": [
           {
            "marker": {
             "line": {
              "color": "#E5ECF6",
              "width": 0.5
             },
             "pattern": {
              "fillmode": "overlay",
              "size": 10,
              "solidity": 0.2
             }
            },
            "type": "barpolar"
           }
          ],
          "carpet": [
           {
            "aaxis": {
             "endlinecolor": "#2a3f5f",
             "gridcolor": "white",
             "linecolor": "white",
             "minorgridcolor": "white",
             "startlinecolor": "#2a3f5f"
            },
            "baxis": {
             "endlinecolor": "#2a3f5f",
             "gridcolor": "white",
             "linecolor": "white",
             "minorgridcolor": "white",
             "startlinecolor": "#2a3f5f"
            },
            "type": "carpet"
           }
          ],
          "choropleth": [
           {
            "colorbar": {
             "outlinewidth": 0,
             "ticks": ""
            },
            "type": "choropleth"
           }
          ],
          "contour": [
           {
            "colorbar": {
             "outlinewidth": 0,
             "ticks": ""
            },
            "colorscale": [
             [
              0,
              "#0d0887"
             ],
             [
              0.1111111111111111,
              "#46039f"
             ],
             [
              0.2222222222222222,
              "#7201a8"
             ],
             [
              0.3333333333333333,
              "#9c179e"
             ],
             [
              0.4444444444444444,
              "#bd3786"
             ],
             [
              0.5555555555555556,
              "#d8576b"
             ],
             [
              0.6666666666666666,
              "#ed7953"
             ],
             [
              0.7777777777777778,
              "#fb9f3a"
             ],
             [
              0.8888888888888888,
              "#fdca26"
             ],
             [
              1,
              "#f0f921"
             ]
            ],
            "type": "contour"
           }
          ],
          "contourcarpet": [
           {
            "colorbar": {
             "outlinewidth": 0,
             "ticks": ""
            },
            "type": "contourcarpet"
           }
          ],
          "heatmap": [
           {
            "colorbar": {
             "outlinewidth": 0,
             "ticks": ""
            },
            "colorscale": [
             [
              0,
              "#0d0887"
             ],
             [
              0.1111111111111111,
              "#46039f"
             ],
             [
              0.2222222222222222,
              "#7201a8"
             ],
             [
              0.3333333333333333,
              "#9c179e"
             ],
             [
              0.4444444444444444,
              "#bd3786"
             ],
             [
              0.5555555555555556,
              "#d8576b"
             ],
             [
              0.6666666666666666,
              "#ed7953"
             ],
             [
              0.7777777777777778,
              "#fb9f3a"
             ],
             [
              0.8888888888888888,
              "#fdca26"
             ],
             [
              1,
              "#f0f921"
             ]
            ],
            "type": "heatmap"
           }
          ],
          "heatmapgl": [
           {
            "colorbar": {
             "outlinewidth": 0,
             "ticks": ""
            },
            "colorscale": [
             [
              0,
              "#0d0887"
             ],
             [
              0.1111111111111111,
              "#46039f"
             ],
             [
              0.2222222222222222,
              "#7201a8"
             ],
             [
              0.3333333333333333,
              "#9c179e"
             ],
             [
              0.4444444444444444,
              "#bd3786"
             ],
             [
              0.5555555555555556,
              "#d8576b"
             ],
             [
              0.6666666666666666,
              "#ed7953"
             ],
             [
              0.7777777777777778,
              "#fb9f3a"
             ],
             [
              0.8888888888888888,
              "#fdca26"
             ],
             [
              1,
              "#f0f921"
             ]
            ],
            "type": "heatmapgl"
           }
          ],
          "histogram": [
           {
            "marker": {
             "pattern": {
              "fillmode": "overlay",
              "size": 10,
              "solidity": 0.2
             }
            },
            "type": "histogram"
           }
          ],
          "histogram2d": [
           {
            "colorbar": {
             "outlinewidth": 0,
             "ticks": ""
            },
            "colorscale": [
             [
              0,
              "#0d0887"
             ],
             [
              0.1111111111111111,
              "#46039f"
             ],
             [
              0.2222222222222222,
              "#7201a8"
             ],
             [
              0.3333333333333333,
              "#9c179e"
             ],
             [
              0.4444444444444444,
              "#bd3786"
             ],
             [
              0.5555555555555556,
              "#d8576b"
             ],
             [
              0.6666666666666666,
              "#ed7953"
             ],
             [
              0.7777777777777778,
              "#fb9f3a"
             ],
             [
              0.8888888888888888,
              "#fdca26"
             ],
             [
              1,
              "#f0f921"
             ]
            ],
            "type": "histogram2d"
           }
          ],
          "histogram2dcontour": [
           {
            "colorbar": {
             "outlinewidth": 0,
             "ticks": ""
            },
            "colorscale": [
             [
              0,
              "#0d0887"
             ],
             [
              0.1111111111111111,
              "#46039f"
             ],
             [
              0.2222222222222222,
              "#7201a8"
             ],
             [
              0.3333333333333333,
              "#9c179e"
             ],
             [
              0.4444444444444444,
              "#bd3786"
             ],
             [
              0.5555555555555556,
              "#d8576b"
             ],
             [
              0.6666666666666666,
              "#ed7953"
             ],
             [
              0.7777777777777778,
              "#fb9f3a"
             ],
             [
              0.8888888888888888,
              "#fdca26"
             ],
             [
              1,
              "#f0f921"
             ]
            ],
            "type": "histogram2dcontour"
           }
          ],
          "mesh3d": [
           {
            "colorbar": {
             "outlinewidth": 0,
             "ticks": ""
            },
            "type": "mesh3d"
           }
          ],
          "parcoords": [
           {
            "line": {
             "colorbar": {
              "outlinewidth": 0,
              "ticks": ""
             }
            },
            "type": "parcoords"
           }
          ],
          "pie": [
           {
            "automargin": true,
            "type": "pie"
           }
          ],
          "scatter": [
           {
            "fillpattern": {
             "fillmode": "overlay",
             "size": 10,
             "solidity": 0.2
            },
            "type": "scatter"
           }
          ],
          "scatter3d": [
           {
            "line": {
             "colorbar": {
              "outlinewidth": 0,
              "ticks": ""
             }
            },
            "marker": {
             "colorbar": {
              "outlinewidth": 0,
              "ticks": ""
             }
            },
            "type": "scatter3d"
           }
          ],
          "scattercarpet": [
           {
            "marker": {
             "colorbar": {
              "outlinewidth": 0,
              "ticks": ""
             }
            },
            "type": "scattercarpet"
           }
          ],
          "scattergeo": [
           {
            "marker": {
             "colorbar": {
              "outlinewidth": 0,
              "ticks": ""
             }
            },
            "type": "scattergeo"
           }
          ],
          "scattergl": [
           {
            "marker": {
             "colorbar": {
              "outlinewidth": 0,
              "ticks": ""
             }
            },
            "type": "scattergl"
           }
          ],
          "scattermapbox": [
           {
            "marker": {
             "colorbar": {
              "outlinewidth": 0,
              "ticks": ""
             }
            },
            "type": "scattermapbox"
           }
          ],
          "scatterpolar": [
           {
            "marker": {
             "colorbar": {
              "outlinewidth": 0,
              "ticks": ""
             }
            },
            "type": "scatterpolar"
           }
          ],
          "scatterpolargl": [
           {
            "marker": {
             "colorbar": {
              "outlinewidth": 0,
              "ticks": ""
             }
            },
            "type": "scatterpolargl"
           }
          ],
          "scatterternary": [
           {
            "marker": {
             "colorbar": {
              "outlinewidth": 0,
              "ticks": ""
             }
            },
            "type": "scatterternary"
           }
          ],
          "surface": [
           {
            "colorbar": {
             "outlinewidth": 0,
             "ticks": ""
            },
            "colorscale": [
             [
              0,
              "#0d0887"
             ],
             [
              0.1111111111111111,
              "#46039f"
             ],
             [
              0.2222222222222222,
              "#7201a8"
             ],
             [
              0.3333333333333333,
              "#9c179e"
             ],
             [
              0.4444444444444444,
              "#bd3786"
             ],
             [
              0.5555555555555556,
              "#d8576b"
             ],
             [
              0.6666666666666666,
              "#ed7953"
             ],
             [
              0.7777777777777778,
              "#fb9f3a"
             ],
             [
              0.8888888888888888,
              "#fdca26"
             ],
             [
              1,
              "#f0f921"
             ]
            ],
            "type": "surface"
           }
          ],
          "table": [
           {
            "cells": {
             "fill": {
              "color": "#EBF0F8"
             },
             "line": {
              "color": "white"
             }
            },
            "header": {
             "fill": {
              "color": "#C8D4E3"
             },
             "line": {
              "color": "white"
             }
            },
            "type": "table"
           }
          ]
         },
         "layout": {
          "annotationdefaults": {
           "arrowcolor": "#2a3f5f",
           "arrowhead": 0,
           "arrowwidth": 1
          },
          "autotypenumbers": "strict",
          "coloraxis": {
           "colorbar": {
            "outlinewidth": 0,
            "ticks": ""
           }
          },
          "colorscale": {
           "diverging": [
            [
             0,
             "#8e0152"
            ],
            [
             0.1,
             "#c51b7d"
            ],
            [
             0.2,
             "#de77ae"
            ],
            [
             0.3,
             "#f1b6da"
            ],
            [
             0.4,
             "#fde0ef"
            ],
            [
             0.5,
             "#f7f7f7"
            ],
            [
             0.6,
             "#e6f5d0"
            ],
            [
             0.7,
             "#b8e186"
            ],
            [
             0.8,
             "#7fbc41"
            ],
            [
             0.9,
             "#4d9221"
            ],
            [
             1,
             "#276419"
            ]
           ],
           "sequential": [
            [
             0,
             "#0d0887"
            ],
            [
             0.1111111111111111,
             "#46039f"
            ],
            [
             0.2222222222222222,
             "#7201a8"
            ],
            [
             0.3333333333333333,
             "#9c179e"
            ],
            [
             0.4444444444444444,
             "#bd3786"
            ],
            [
             0.5555555555555556,
             "#d8576b"
            ],
            [
             0.6666666666666666,
             "#ed7953"
            ],
            [
             0.7777777777777778,
             "#fb9f3a"
            ],
            [
             0.8888888888888888,
             "#fdca26"
            ],
            [
             1,
             "#f0f921"
            ]
           ],
           "sequentialminus": [
            [
             0,
             "#0d0887"
            ],
            [
             0.1111111111111111,
             "#46039f"
            ],
            [
             0.2222222222222222,
             "#7201a8"
            ],
            [
             0.3333333333333333,
             "#9c179e"
            ],
            [
             0.4444444444444444,
             "#bd3786"
            ],
            [
             0.5555555555555556,
             "#d8576b"
            ],
            [
             0.6666666666666666,
             "#ed7953"
            ],
            [
             0.7777777777777778,
             "#fb9f3a"
            ],
            [
             0.8888888888888888,
             "#fdca26"
            ],
            [
             1,
             "#f0f921"
            ]
           ]
          },
          "colorway": [
           "#636efa",
           "#EF553B",
           "#00cc96",
           "#ab63fa",
           "#FFA15A",
           "#19d3f3",
           "#FF6692",
           "#B6E880",
           "#FF97FF",
           "#FECB52"
          ],
          "font": {
           "color": "#2a3f5f"
          },
          "geo": {
           "bgcolor": "white",
           "lakecolor": "white",
           "landcolor": "#E5ECF6",
           "showlakes": true,
           "showland": true,
           "subunitcolor": "white"
          },
          "hoverlabel": {
           "align": "left"
          },
          "hovermode": "closest",
          "mapbox": {
           "style": "light"
          },
          "paper_bgcolor": "white",
          "plot_bgcolor": "#E5ECF6",
          "polar": {
           "angularaxis": {
            "gridcolor": "white",
            "linecolor": "white",
            "ticks": ""
           },
           "bgcolor": "#E5ECF6",
           "radialaxis": {
            "gridcolor": "white",
            "linecolor": "white",
            "ticks": ""
           }
          },
          "scene": {
           "xaxis": {
            "backgroundcolor": "#E5ECF6",
            "gridcolor": "white",
            "gridwidth": 2,
            "linecolor": "white",
            "showbackground": true,
            "ticks": "",
            "zerolinecolor": "white"
           },
           "yaxis": {
            "backgroundcolor": "#E5ECF6",
            "gridcolor": "white",
            "gridwidth": 2,
            "linecolor": "white",
            "showbackground": true,
            "ticks": "",
            "zerolinecolor": "white"
           },
           "zaxis": {
            "backgroundcolor": "#E5ECF6",
            "gridcolor": "white",
            "gridwidth": 2,
            "linecolor": "white",
            "showbackground": true,
            "ticks": "",
            "zerolinecolor": "white"
           }
          },
          "shapedefaults": {
           "line": {
            "color": "#2a3f5f"
           }
          },
          "ternary": {
           "aaxis": {
            "gridcolor": "white",
            "linecolor": "white",
            "ticks": ""
           },
           "baxis": {
            "gridcolor": "white",
            "linecolor": "white",
            "ticks": ""
           },
           "bgcolor": "#E5ECF6",
           "caxis": {
            "gridcolor": "white",
            "linecolor": "white",
            "ticks": ""
           }
          },
          "title": {
           "x": 0.05
          },
          "xaxis": {
           "automargin": true,
           "gridcolor": "white",
           "linecolor": "white",
           "ticks": "",
           "title": {
            "standoff": 15
           },
           "zerolinecolor": "white",
           "zerolinewidth": 2
          },
          "yaxis": {
           "automargin": true,
           "gridcolor": "white",
           "linecolor": "white",
           "ticks": "",
           "title": {
            "standoff": 15
           },
           "zerolinecolor": "white",
           "zerolinewidth": 2
          }
         }
        },
        "xaxis": {
         "anchor": "y",
         "domain": [
          0,
          1
         ],
         "title": {
          "text": "Month"
         }
        },
        "yaxis": {
         "anchor": "x",
         "domain": [
          0,
          1
         ],
         "title": {
          "text": "Count"
         }
        }
       }
      }
     },
     "metadata": {},
     "output_type": "display_data"
    }
   ],
   "source": [
    "import pandas as pd\n",
    "import plotly.express as px\n",
    "\n",
    "# Convert 'release_date_y' to datetime if it's not already\n",
    "unified_view['release_date_y'] = pd.to_datetime(unified_view['release_date_y'])\n",
    "\n",
    "# Extract the month and create a new 'Month' column\n",
    "unified_view['Month'] = unified_view['release_date_y'].dt.month\n",
    "\n",
    "# Group the data by 'Month' and 'Sentiment' and count the number of sentiments for each month\n",
    "df_grouped = unified_view.groupby(['Month', 'Sentiment']).size().reset_index(name='Count')\n",
    "\n",
    "# Create a bar plot\n",
    "fig = px.bar(df_grouped, x='Month', y='Count', color='Sentiment', barmode='group')\n",
    "fig.show()\n"
   ]
  },
  {
   "cell_type": "code",
   "execution_count": 12,
   "metadata": {},
   "outputs": [],
   "source": [
    "#From this graph I can tell that december was the month when most movies with tragic ending were released, with a total of 18 movies. And June was the month when most movies with happy ending were released, with a total of 9 movies. "
   ]
  },
  {
   "cell_type": "code",
   "execution_count": 13,
   "metadata": {},
   "outputs": [
    {
     "data": {
      "application/vnd.plotly.v1+json": {
       "config": {
        "plotlyServerURL": "https://plot.ly"
       },
       "data": [
        {
         "alignmentgroup": "True",
         "hovertemplate": "Sentiment=%{x}<br>runtime=%{y}<extra></extra>",
         "legendgroup": "",
         "marker": {
          "color": "#636efa"
         },
         "name": "",
         "notched": false,
         "offsetgroup": "",
         "orientation": "v",
         "showlegend": false,
         "type": "box",
         "x": [
          "tragic",
          "happy",
          "happy",
          "tragic",
          "tragic",
          "tragic",
          "tragic",
          "happy",
          "tragic",
          "happy",
          "tragic",
          "tragic",
          "tragic",
          "tragic",
          "tragic",
          "tragic",
          "happy",
          "tragic",
          "different",
          "happy",
          "tragic",
          "tragic",
          "tragic",
          "different",
          "different",
          "happy",
          "happy",
          "different",
          "tragic",
          "tragic",
          "tragic",
          "happy",
          "happy",
          "tragic",
          "tragic",
          "twist",
          "different",
          "tragic",
          "tragic",
          "tragic",
          "happy",
          "tragic",
          "tragic",
          "tragic",
          "tragic",
          "tragic",
          "tragic",
          "tragic",
          "happy",
          "happy",
          "happy",
          "tragic",
          "tragic",
          "happy",
          "tragic",
          "happy",
          "happy",
          "happy",
          "tragic",
          "predictable",
          "happy",
          "tragic",
          "tragic",
          "predictable",
          "tragic",
          "happy",
          "tragic",
          "happy",
          "happy",
          "tragic",
          "happy",
          "tragic",
          "tragic",
          "twist",
          "different",
          "happy",
          "tragic",
          "tragic",
          "happy",
          "tragic",
          "different",
          "tragic",
          "happy",
          "happy",
          "happy",
          "tragic",
          "happy",
          "tragic",
          "happy",
          "tragic",
          "tragic",
          "happy",
          "tragic",
          "happy",
          "tragic",
          "tragic",
          "happy",
          "happy",
          "happy",
          "different",
          "tragic",
          "happy",
          "tragic",
          "happy",
          "tragic",
          "happy",
          "tragic",
          "happy",
          "happy",
          "tragic",
          "tragic",
          "tragic",
          "tragic",
          "happy",
          "tragic",
          "tragic",
          "happy",
          "different",
          "tragic",
          "tragic",
          "tragic",
          "happy",
          "tragic",
          "tragic",
          "tragic",
          "tragic",
          "tragic",
          "tragic",
          "tragic",
          "tragic",
          "tragic",
          "twist",
          "happy",
          "tragic",
          "tragic",
          "tragic",
          "tragic",
          "happy",
          "happy",
          "tragic",
          "tragic",
          "tragic",
          "happy",
          "happy",
          "happy",
          "twist",
          "happy",
          "tragic",
          "tragic",
          "tragic",
          "happy",
          "tragic",
          "tragic",
          "happy",
          "tragic",
          "happy",
          "tragic",
          "happy",
          "tragic",
          "tragic",
          "tragic",
          "tragic",
          "tragic",
          "tragic",
          "tragic",
          "tragic",
          "tragic",
          "tragic",
          "tragic",
          "tragic",
          "tragic",
          "tragic",
          "tragic",
          "happy",
          "tragic",
          "different",
          "tragic",
          "tragic",
          "predictable",
          "happy",
          "happy",
          "tragic",
          "tragic",
          "tragic",
          "happy",
          "happy",
          "tragic",
          "twist",
          "tragic",
          "happy",
          "happy",
          "tragic",
          "tragic",
          "tragic",
          "tragic",
          "tragic",
          "tragic",
          "tragic",
          "tragic"
         ],
         "x0": " ",
         "xaxis": "x",
         "y": [
          111,
          102,
          118,
          103,
          107,
          125,
          140,
          100,
          97,
          110,
          104,
          116,
          103,
          107,
          113,
          108,
          140,
          146,
          116,
          107,
          95,
          113,
          100,
          80,
          93,
          97,
          109,
          90,
          98,
          100,
          112,
          99,
          95,
          97,
          125,
          129,
          98,
          92,
          104,
          118,
          92,
          91,
          134,
          103,
          101,
          123,
          103,
          107,
          88,
          100,
          109,
          107,
          101,
          106,
          109,
          108,
          94,
          100,
          105,
          107,
          92,
          90,
          108,
          103,
          148,
          104,
          106,
          94,
          103,
          117,
          124,
          95,
          101,
          100,
          98,
          98,
          103,
          93,
          97,
          133,
          92,
          115,
          91,
          87,
          107,
          120,
          121,
          95,
          101,
          94,
          105,
          119,
          117,
          114,
          133,
          96,
          101,
          101,
          105,
          91,
          87,
          90,
          148,
          108,
          113,
          128,
          118,
          112,
          115,
          91,
          105,
          133,
          100,
          110,
          97,
          125,
          85,
          138,
          108,
          106,
          95,
          109,
          106,
          81,
          98,
          109,
          108,
          100,
          109,
          108,
          124,
          117,
          116,
          101,
          94,
          117,
          111,
          165,
          82,
          94,
          87,
          121,
          110,
          107,
          81,
          85,
          93,
          105,
          87,
          94,
          99,
          89,
          93,
          129,
          98,
          95,
          103,
          79,
          82,
          88,
          86,
          95,
          108,
          95,
          84,
          83,
          107,
          87,
          138,
          110,
          107,
          105,
          90,
          98,
          101,
          78,
          91,
          93,
          89,
          96,
          110,
          123,
          82,
          97,
          92,
          117,
          99,
          113,
          108,
          100,
          100,
          94,
          84,
          87,
          118,
          89,
          80,
          88,
          90
         ],
         "y0": " ",
         "yaxis": "y"
        }
       ],
       "layout": {
        "boxmode": "group",
        "legend": {
         "tracegroupgap": 0
        },
        "margin": {
         "t": 60
        },
        "template": {
         "data": {
          "bar": [
           {
            "error_x": {
             "color": "#2a3f5f"
            },
            "error_y": {
             "color": "#2a3f5f"
            },
            "marker": {
             "line": {
              "color": "#E5ECF6",
              "width": 0.5
             },
             "pattern": {
              "fillmode": "overlay",
              "size": 10,
              "solidity": 0.2
             }
            },
            "type": "bar"
           }
          ],
          "barpolar": [
           {
            "marker": {
             "line": {
              "color": "#E5ECF6",
              "width": 0.5
             },
             "pattern": {
              "fillmode": "overlay",
              "size": 10,
              "solidity": 0.2
             }
            },
            "type": "barpolar"
           }
          ],
          "carpet": [
           {
            "aaxis": {
             "endlinecolor": "#2a3f5f",
             "gridcolor": "white",
             "linecolor": "white",
             "minorgridcolor": "white",
             "startlinecolor": "#2a3f5f"
            },
            "baxis": {
             "endlinecolor": "#2a3f5f",
             "gridcolor": "white",
             "linecolor": "white",
             "minorgridcolor": "white",
             "startlinecolor": "#2a3f5f"
            },
            "type": "carpet"
           }
          ],
          "choropleth": [
           {
            "colorbar": {
             "outlinewidth": 0,
             "ticks": ""
            },
            "type": "choropleth"
           }
          ],
          "contour": [
           {
            "colorbar": {
             "outlinewidth": 0,
             "ticks": ""
            },
            "colorscale": [
             [
              0,
              "#0d0887"
             ],
             [
              0.1111111111111111,
              "#46039f"
             ],
             [
              0.2222222222222222,
              "#7201a8"
             ],
             [
              0.3333333333333333,
              "#9c179e"
             ],
             [
              0.4444444444444444,
              "#bd3786"
             ],
             [
              0.5555555555555556,
              "#d8576b"
             ],
             [
              0.6666666666666666,
              "#ed7953"
             ],
             [
              0.7777777777777778,
              "#fb9f3a"
             ],
             [
              0.8888888888888888,
              "#fdca26"
             ],
             [
              1,
              "#f0f921"
             ]
            ],
            "type": "contour"
           }
          ],
          "contourcarpet": [
           {
            "colorbar": {
             "outlinewidth": 0,
             "ticks": ""
            },
            "type": "contourcarpet"
           }
          ],
          "heatmap": [
           {
            "colorbar": {
             "outlinewidth": 0,
             "ticks": ""
            },
            "colorscale": [
             [
              0,
              "#0d0887"
             ],
             [
              0.1111111111111111,
              "#46039f"
             ],
             [
              0.2222222222222222,
              "#7201a8"
             ],
             [
              0.3333333333333333,
              "#9c179e"
             ],
             [
              0.4444444444444444,
              "#bd3786"
             ],
             [
              0.5555555555555556,
              "#d8576b"
             ],
             [
              0.6666666666666666,
              "#ed7953"
             ],
             [
              0.7777777777777778,
              "#fb9f3a"
             ],
             [
              0.8888888888888888,
              "#fdca26"
             ],
             [
              1,
              "#f0f921"
             ]
            ],
            "type": "heatmap"
           }
          ],
          "heatmapgl": [
           {
            "colorbar": {
             "outlinewidth": 0,
             "ticks": ""
            },
            "colorscale": [
             [
              0,
              "#0d0887"
             ],
             [
              0.1111111111111111,
              "#46039f"
             ],
             [
              0.2222222222222222,
              "#7201a8"
             ],
             [
              0.3333333333333333,
              "#9c179e"
             ],
             [
              0.4444444444444444,
              "#bd3786"
             ],
             [
              0.5555555555555556,
              "#d8576b"
             ],
             [
              0.6666666666666666,
              "#ed7953"
             ],
             [
              0.7777777777777778,
              "#fb9f3a"
             ],
             [
              0.8888888888888888,
              "#fdca26"
             ],
             [
              1,
              "#f0f921"
             ]
            ],
            "type": "heatmapgl"
           }
          ],
          "histogram": [
           {
            "marker": {
             "pattern": {
              "fillmode": "overlay",
              "size": 10,
              "solidity": 0.2
             }
            },
            "type": "histogram"
           }
          ],
          "histogram2d": [
           {
            "colorbar": {
             "outlinewidth": 0,
             "ticks": ""
            },
            "colorscale": [
             [
              0,
              "#0d0887"
             ],
             [
              0.1111111111111111,
              "#46039f"
             ],
             [
              0.2222222222222222,
              "#7201a8"
             ],
             [
              0.3333333333333333,
              "#9c179e"
             ],
             [
              0.4444444444444444,
              "#bd3786"
             ],
             [
              0.5555555555555556,
              "#d8576b"
             ],
             [
              0.6666666666666666,
              "#ed7953"
             ],
             [
              0.7777777777777778,
              "#fb9f3a"
             ],
             [
              0.8888888888888888,
              "#fdca26"
             ],
             [
              1,
              "#f0f921"
             ]
            ],
            "type": "histogram2d"
           }
          ],
          "histogram2dcontour": [
           {
            "colorbar": {
             "outlinewidth": 0,
             "ticks": ""
            },
            "colorscale": [
             [
              0,
              "#0d0887"
             ],
             [
              0.1111111111111111,
              "#46039f"
             ],
             [
              0.2222222222222222,
              "#7201a8"
             ],
             [
              0.3333333333333333,
              "#9c179e"
             ],
             [
              0.4444444444444444,
              "#bd3786"
             ],
             [
              0.5555555555555556,
              "#d8576b"
             ],
             [
              0.6666666666666666,
              "#ed7953"
             ],
             [
              0.7777777777777778,
              "#fb9f3a"
             ],
             [
              0.8888888888888888,
              "#fdca26"
             ],
             [
              1,
              "#f0f921"
             ]
            ],
            "type": "histogram2dcontour"
           }
          ],
          "mesh3d": [
           {
            "colorbar": {
             "outlinewidth": 0,
             "ticks": ""
            },
            "type": "mesh3d"
           }
          ],
          "parcoords": [
           {
            "line": {
             "colorbar": {
              "outlinewidth": 0,
              "ticks": ""
             }
            },
            "type": "parcoords"
           }
          ],
          "pie": [
           {
            "automargin": true,
            "type": "pie"
           }
          ],
          "scatter": [
           {
            "fillpattern": {
             "fillmode": "overlay",
             "size": 10,
             "solidity": 0.2
            },
            "type": "scatter"
           }
          ],
          "scatter3d": [
           {
            "line": {
             "colorbar": {
              "outlinewidth": 0,
              "ticks": ""
             }
            },
            "marker": {
             "colorbar": {
              "outlinewidth": 0,
              "ticks": ""
             }
            },
            "type": "scatter3d"
           }
          ],
          "scattercarpet": [
           {
            "marker": {
             "colorbar": {
              "outlinewidth": 0,
              "ticks": ""
             }
            },
            "type": "scattercarpet"
           }
          ],
          "scattergeo": [
           {
            "marker": {
             "colorbar": {
              "outlinewidth": 0,
              "ticks": ""
             }
            },
            "type": "scattergeo"
           }
          ],
          "scattergl": [
           {
            "marker": {
             "colorbar": {
              "outlinewidth": 0,
              "ticks": ""
             }
            },
            "type": "scattergl"
           }
          ],
          "scattermapbox": [
           {
            "marker": {
             "colorbar": {
              "outlinewidth": 0,
              "ticks": ""
             }
            },
            "type": "scattermapbox"
           }
          ],
          "scatterpolar": [
           {
            "marker": {
             "colorbar": {
              "outlinewidth": 0,
              "ticks": ""
             }
            },
            "type": "scatterpolar"
           }
          ],
          "scatterpolargl": [
           {
            "marker": {
             "colorbar": {
              "outlinewidth": 0,
              "ticks": ""
             }
            },
            "type": "scatterpolargl"
           }
          ],
          "scatterternary": [
           {
            "marker": {
             "colorbar": {
              "outlinewidth": 0,
              "ticks": ""
             }
            },
            "type": "scatterternary"
           }
          ],
          "surface": [
           {
            "colorbar": {
             "outlinewidth": 0,
             "ticks": ""
            },
            "colorscale": [
             [
              0,
              "#0d0887"
             ],
             [
              0.1111111111111111,
              "#46039f"
             ],
             [
              0.2222222222222222,
              "#7201a8"
             ],
             [
              0.3333333333333333,
              "#9c179e"
             ],
             [
              0.4444444444444444,
              "#bd3786"
             ],
             [
              0.5555555555555556,
              "#d8576b"
             ],
             [
              0.6666666666666666,
              "#ed7953"
             ],
             [
              0.7777777777777778,
              "#fb9f3a"
             ],
             [
              0.8888888888888888,
              "#fdca26"
             ],
             [
              1,
              "#f0f921"
             ]
            ],
            "type": "surface"
           }
          ],
          "table": [
           {
            "cells": {
             "fill": {
              "color": "#EBF0F8"
             },
             "line": {
              "color": "white"
             }
            },
            "header": {
             "fill": {
              "color": "#C8D4E3"
             },
             "line": {
              "color": "white"
             }
            },
            "type": "table"
           }
          ]
         },
         "layout": {
          "annotationdefaults": {
           "arrowcolor": "#2a3f5f",
           "arrowhead": 0,
           "arrowwidth": 1
          },
          "autotypenumbers": "strict",
          "coloraxis": {
           "colorbar": {
            "outlinewidth": 0,
            "ticks": ""
           }
          },
          "colorscale": {
           "diverging": [
            [
             0,
             "#8e0152"
            ],
            [
             0.1,
             "#c51b7d"
            ],
            [
             0.2,
             "#de77ae"
            ],
            [
             0.3,
             "#f1b6da"
            ],
            [
             0.4,
             "#fde0ef"
            ],
            [
             0.5,
             "#f7f7f7"
            ],
            [
             0.6,
             "#e6f5d0"
            ],
            [
             0.7,
             "#b8e186"
            ],
            [
             0.8,
             "#7fbc41"
            ],
            [
             0.9,
             "#4d9221"
            ],
            [
             1,
             "#276419"
            ]
           ],
           "sequential": [
            [
             0,
             "#0d0887"
            ],
            [
             0.1111111111111111,
             "#46039f"
            ],
            [
             0.2222222222222222,
             "#7201a8"
            ],
            [
             0.3333333333333333,
             "#9c179e"
            ],
            [
             0.4444444444444444,
             "#bd3786"
            ],
            [
             0.5555555555555556,
             "#d8576b"
            ],
            [
             0.6666666666666666,
             "#ed7953"
            ],
            [
             0.7777777777777778,
             "#fb9f3a"
            ],
            [
             0.8888888888888888,
             "#fdca26"
            ],
            [
             1,
             "#f0f921"
            ]
           ],
           "sequentialminus": [
            [
             0,
             "#0d0887"
            ],
            [
             0.1111111111111111,
             "#46039f"
            ],
            [
             0.2222222222222222,
             "#7201a8"
            ],
            [
             0.3333333333333333,
             "#9c179e"
            ],
            [
             0.4444444444444444,
             "#bd3786"
            ],
            [
             0.5555555555555556,
             "#d8576b"
            ],
            [
             0.6666666666666666,
             "#ed7953"
            ],
            [
             0.7777777777777778,
             "#fb9f3a"
            ],
            [
             0.8888888888888888,
             "#fdca26"
            ],
            [
             1,
             "#f0f921"
            ]
           ]
          },
          "colorway": [
           "#636efa",
           "#EF553B",
           "#00cc96",
           "#ab63fa",
           "#FFA15A",
           "#19d3f3",
           "#FF6692",
           "#B6E880",
           "#FF97FF",
           "#FECB52"
          ],
          "font": {
           "color": "#2a3f5f"
          },
          "geo": {
           "bgcolor": "white",
           "lakecolor": "white",
           "landcolor": "#E5ECF6",
           "showlakes": true,
           "showland": true,
           "subunitcolor": "white"
          },
          "hoverlabel": {
           "align": "left"
          },
          "hovermode": "closest",
          "mapbox": {
           "style": "light"
          },
          "paper_bgcolor": "white",
          "plot_bgcolor": "#E5ECF6",
          "polar": {
           "angularaxis": {
            "gridcolor": "white",
            "linecolor": "white",
            "ticks": ""
           },
           "bgcolor": "#E5ECF6",
           "radialaxis": {
            "gridcolor": "white",
            "linecolor": "white",
            "ticks": ""
           }
          },
          "scene": {
           "xaxis": {
            "backgroundcolor": "#E5ECF6",
            "gridcolor": "white",
            "gridwidth": 2,
            "linecolor": "white",
            "showbackground": true,
            "ticks": "",
            "zerolinecolor": "white"
           },
           "yaxis": {
            "backgroundcolor": "#E5ECF6",
            "gridcolor": "white",
            "gridwidth": 2,
            "linecolor": "white",
            "showbackground": true,
            "ticks": "",
            "zerolinecolor": "white"
           },
           "zaxis": {
            "backgroundcolor": "#E5ECF6",
            "gridcolor": "white",
            "gridwidth": 2,
            "linecolor": "white",
            "showbackground": true,
            "ticks": "",
            "zerolinecolor": "white"
           }
          },
          "shapedefaults": {
           "line": {
            "color": "#2a3f5f"
           }
          },
          "ternary": {
           "aaxis": {
            "gridcolor": "white",
            "linecolor": "white",
            "ticks": ""
           },
           "baxis": {
            "gridcolor": "white",
            "linecolor": "white",
            "ticks": ""
           },
           "bgcolor": "#E5ECF6",
           "caxis": {
            "gridcolor": "white",
            "linecolor": "white",
            "ticks": ""
           }
          },
          "title": {
           "x": 0.05
          },
          "xaxis": {
           "automargin": true,
           "gridcolor": "white",
           "linecolor": "white",
           "ticks": "",
           "title": {
            "standoff": 15
           },
           "zerolinecolor": "white",
           "zerolinewidth": 2
          },
          "yaxis": {
           "automargin": true,
           "gridcolor": "white",
           "linecolor": "white",
           "ticks": "",
           "title": {
            "standoff": 15
           },
           "zerolinecolor": "white",
           "zerolinewidth": 2
          }
         }
        },
        "xaxis": {
         "anchor": "y",
         "domain": [
          0,
          1
         ],
         "title": {
          "text": "Sentiment"
         }
        },
        "yaxis": {
         "anchor": "x",
         "domain": [
          0,
          1
         ],
         "title": {
          "text": "runtime"
         }
        }
       }
      }
     },
     "metadata": {},
     "output_type": "display_data"
    }
   ],
   "source": [
    "import plotly.express as px\n",
    "\n",
    "# Create boxplot\n",
    "fig = px.box(unified_view, x=\"Sentiment\", y=\"runtime\")\n",
    "fig.show()"
   ]
  },
  {
   "cell_type": "code",
   "execution_count": 14,
   "metadata": {},
   "outputs": [],
   "source": [
    "#This graph tells us about the runtime of movies with different types of endings. "
   ]
  }
 ],
 "metadata": {
  "kernelspec": {
   "display_name": "Python 3",
   "language": "python",
   "name": "python3"
  },
  "language_info": {
   "codemirror_mode": {
    "name": "ipython",
    "version": 3
   },
   "file_extension": ".py",
   "mimetype": "text/x-python",
   "name": "python",
   "nbconvert_exporter": "python",
   "pygments_lexer": "ipython3",
   "version": "3.9.16"
  },
  "orig_nbformat": 4
 },
 "nbformat": 4,
 "nbformat_minor": 2
}
